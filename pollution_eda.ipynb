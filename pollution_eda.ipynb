{
 "cells": [
  {
   "cell_type": "code",
   "execution_count": 1,
   "id": "d34479a2",
   "metadata": {},
   "outputs": [],
   "source": [
    "import pandas as pd\n",
    "import matplotlib.pyplot as plt\n",
    "import seaborn as sns"
   ]
  },
  {
   "cell_type": "code",
   "execution_count": 2,
   "id": "4dbe27f1",
   "metadata": {},
   "outputs": [],
   "source": [
    "# exploration questions:\n",
    "# are there any months in the year that seem to be higher AQI? lower AQI?\n",
    "# are there any gases that change in level frequently? are there any that seem to change in tandem with others?"
   ]
  },
  {
   "cell_type": "markdown",
   "id": "d79eba0b",
   "metadata": {},
   "source": [
    "## AQI Basics\n",
    "\n",
    "    Daily AQI color     Level of concern           Value of index     Desc. of air quality\n",
    "\n",
    "    Green               Good                       0 to 50            Air quality is satisfactory, and air pollution poses\n",
    "                                                                      little or no risk.\n",
    "\n",
    "    Yellow              Moderate                   51 to 100          Air quality is acceptable. However, there may be a\n",
    "                                                                      risk for some people, particularly those who are\n",
    "                                                                      unusually sensitive to air pollution.\n",
    "\n",
    "    Orange              Unhealthy for sensitive    101 to 150         Members of sensitive groups may experience health\n",
    "                                                                      effects. The general public is less likely to be\n",
    "                                                                      affected.\n",
    "\n",
    "    Red                 Unhealthy                  151 to 200         Some members of the general public may experience\n",
    "                                                                      health effects; members of sensitive groups may\n",
    "                                                                      experience more serious health effects.\n",
    "\n",
    "    Purple              Very unhealthy             201 to 300         Health alert: The risk of health effects is increased\n",
    "                                                                      for everyone.\n",
    "\n",
    "    Maroon              Hazardous                  301+               Health warning of emergency conditions: everyone\n",
    "                                                                      is more likely to be affected.\n",
    "        "
   ]
  },
  {
   "cell_type": "code",
   "execution_count": 3,
   "id": "c2e4f7d8",
   "metadata": {},
   "outputs": [
    {
     "data": {
      "text/plain": [
       "Index(['Id', 'Mounths', 'PM10 in æg/m3', 'SO2 in æg/m3', 'NOx  in æg/m3',\n",
       "       ' PM2.5  in æg/m3', 'Ammonia - NH3  in æg/m3', 'O3   in æg/m3',\n",
       "       'CO  in mg/m3', ' Benzene  in æg/m3', 'AQI'],\n",
       "      dtype='object')"
      ]
     },
     "execution_count": 3,
     "metadata": {},
     "output_type": "execute_result"
    }
   ],
   "source": [
    "air_quality = pd.read_csv('data/aqi_data.csv')\n",
    "air_quality.columns"
   ]
  },
  {
   "cell_type": "code",
   "execution_count": 4,
   "id": "f0b4b908",
   "metadata": {},
   "outputs": [
    {
     "data": {
      "text/html": [
       "<div>\n",
       "<style scoped>\n",
       "    .dataframe tbody tr th:only-of-type {\n",
       "        vertical-align: middle;\n",
       "    }\n",
       "\n",
       "    .dataframe tbody tr th {\n",
       "        vertical-align: top;\n",
       "    }\n",
       "\n",
       "    .dataframe thead th {\n",
       "        text-align: right;\n",
       "    }\n",
       "</style>\n",
       "<table border=\"1\" class=\"dataframe\">\n",
       "  <thead>\n",
       "    <tr style=\"text-align: right;\">\n",
       "      <th></th>\n",
       "      <th>id</th>\n",
       "      <th>month</th>\n",
       "      <th>PM10</th>\n",
       "      <th>SO2</th>\n",
       "      <th>NOx</th>\n",
       "      <th>PM25</th>\n",
       "      <th>NH3</th>\n",
       "      <th>O3</th>\n",
       "      <th>CO</th>\n",
       "      <th>benzene</th>\n",
       "      <th>AQI</th>\n",
       "    </tr>\n",
       "  </thead>\n",
       "  <tbody>\n",
       "    <tr>\n",
       "      <th>0</th>\n",
       "      <td>1</td>\n",
       "      <td>Jan-17</td>\n",
       "      <td>174.0</td>\n",
       "      <td>26.4</td>\n",
       "      <td>35.0</td>\n",
       "      <td>79</td>\n",
       "      <td>25.0</td>\n",
       "      <td>107.6</td>\n",
       "      <td>0.90</td>\n",
       "      <td>0.70</td>\n",
       "      <td>149.0</td>\n",
       "    </tr>\n",
       "    <tr>\n",
       "      <th>1</th>\n",
       "      <td>2</td>\n",
       "      <td>Feb-17</td>\n",
       "      <td>143.0</td>\n",
       "      <td>35.1</td>\n",
       "      <td>40.3</td>\n",
       "      <td>75</td>\n",
       "      <td>31.0</td>\n",
       "      <td>103.0</td>\n",
       "      <td>0.90</td>\n",
       "      <td>0.90</td>\n",
       "      <td>129.0</td>\n",
       "    </tr>\n",
       "    <tr>\n",
       "      <th>2</th>\n",
       "      <td>3</td>\n",
       "      <td>Mar-17</td>\n",
       "      <td>142.0</td>\n",
       "      <td>32.1</td>\n",
       "      <td>30.9</td>\n",
       "      <td>59</td>\n",
       "      <td>26.0</td>\n",
       "      <td>80.7</td>\n",
       "      <td>0.80</td>\n",
       "      <td>0.50</td>\n",
       "      <td>128.0</td>\n",
       "    </tr>\n",
       "    <tr>\n",
       "      <th>3</th>\n",
       "      <td>4</td>\n",
       "      <td>Apr-17</td>\n",
       "      <td>117.0</td>\n",
       "      <td>50.9</td>\n",
       "      <td>36.3</td>\n",
       "      <td>75</td>\n",
       "      <td>36.0</td>\n",
       "      <td>79.5</td>\n",
       "      <td>0.90</td>\n",
       "      <td>0.70</td>\n",
       "      <td>111.0</td>\n",
       "    </tr>\n",
       "    <tr>\n",
       "      <th>4</th>\n",
       "      <td>5</td>\n",
       "      <td>May-17</td>\n",
       "      <td>NaN</td>\n",
       "      <td>41.6</td>\n",
       "      <td>25.2</td>\n",
       "      <td>53</td>\n",
       "      <td>28.0</td>\n",
       "      <td>70.0</td>\n",
       "      <td>0.50</td>\n",
       "      <td>0.50</td>\n",
       "      <td>NaN</td>\n",
       "    </tr>\n",
       "    <tr>\n",
       "      <th>...</th>\n",
       "      <td>...</td>\n",
       "      <td>...</td>\n",
       "      <td>...</td>\n",
       "      <td>...</td>\n",
       "      <td>...</td>\n",
       "      <td>...</td>\n",
       "      <td>...</td>\n",
       "      <td>...</td>\n",
       "      <td>...</td>\n",
       "      <td>...</td>\n",
       "      <td>...</td>\n",
       "    </tr>\n",
       "    <tr>\n",
       "      <th>67</th>\n",
       "      <td>68</td>\n",
       "      <td>Aug-22</td>\n",
       "      <td>89.0</td>\n",
       "      <td>12.0</td>\n",
       "      <td>35.0</td>\n",
       "      <td>22</td>\n",
       "      <td>26.0</td>\n",
       "      <td>15.2</td>\n",
       "      <td>0.64</td>\n",
       "      <td>0.09</td>\n",
       "      <td>67.0</td>\n",
       "    </tr>\n",
       "    <tr>\n",
       "      <th>68</th>\n",
       "      <td>69</td>\n",
       "      <td>Sep-22</td>\n",
       "      <td>92.0</td>\n",
       "      <td>13.0</td>\n",
       "      <td>37.3</td>\n",
       "      <td>30</td>\n",
       "      <td>31.0</td>\n",
       "      <td>10.0</td>\n",
       "      <td>0.70</td>\n",
       "      <td>0.06</td>\n",
       "      <td>76.0</td>\n",
       "    </tr>\n",
       "    <tr>\n",
       "      <th>69</th>\n",
       "      <td>70</td>\n",
       "      <td>Oct-22</td>\n",
       "      <td>93.0</td>\n",
       "      <td>12.0</td>\n",
       "      <td>30.7</td>\n",
       "      <td>46</td>\n",
       "      <td>28.0</td>\n",
       "      <td>9.7</td>\n",
       "      <td>0.67</td>\n",
       "      <td>0.07</td>\n",
       "      <td>101.0</td>\n",
       "    </tr>\n",
       "    <tr>\n",
       "      <th>70</th>\n",
       "      <td>71</td>\n",
       "      <td>Nov-22</td>\n",
       "      <td>87.0</td>\n",
       "      <td>10.4</td>\n",
       "      <td>28.2</td>\n",
       "      <td>78</td>\n",
       "      <td>30.0</td>\n",
       "      <td>12.1</td>\n",
       "      <td>1.52</td>\n",
       "      <td>0.03</td>\n",
       "      <td>166.0</td>\n",
       "    </tr>\n",
       "    <tr>\n",
       "      <th>71</th>\n",
       "      <td>72</td>\n",
       "      <td>Dec-22</td>\n",
       "      <td>88.0</td>\n",
       "      <td>13.0</td>\n",
       "      <td>34.5</td>\n",
       "      <td>72</td>\n",
       "      <td>15.0</td>\n",
       "      <td>16.5</td>\n",
       "      <td>1.39</td>\n",
       "      <td>0.04</td>\n",
       "      <td>162.0</td>\n",
       "    </tr>\n",
       "  </tbody>\n",
       "</table>\n",
       "<p>72 rows × 11 columns</p>\n",
       "</div>"
      ],
      "text/plain": [
       "    id   month   PM10   SO2   NOx  PM25   NH3     O3    CO  benzene    AQI\n",
       "0    1  Jan-17  174.0  26.4  35.0    79  25.0  107.6  0.90     0.70  149.0\n",
       "1    2  Feb-17  143.0  35.1  40.3    75  31.0  103.0  0.90     0.90  129.0\n",
       "2    3  Mar-17  142.0  32.1  30.9    59  26.0   80.7  0.80     0.50  128.0\n",
       "3    4  Apr-17  117.0  50.9  36.3    75  36.0   79.5  0.90     0.70  111.0\n",
       "4    5  May-17    NaN  41.6  25.2    53  28.0   70.0  0.50     0.50    NaN\n",
       "..  ..     ...    ...   ...   ...   ...   ...    ...   ...      ...    ...\n",
       "67  68  Aug-22   89.0  12.0  35.0    22  26.0   15.2  0.64     0.09   67.0\n",
       "68  69  Sep-22   92.0  13.0  37.3    30  31.0   10.0  0.70     0.06   76.0\n",
       "69  70  Oct-22   93.0  12.0  30.7    46  28.0    9.7  0.67     0.07  101.0\n",
       "70  71  Nov-22   87.0  10.4  28.2    78  30.0   12.1  1.52     0.03  166.0\n",
       "71  72  Dec-22   88.0  13.0  34.5    72  15.0   16.5  1.39     0.04  162.0\n",
       "\n",
       "[72 rows x 11 columns]"
      ]
     },
     "execution_count": 4,
     "metadata": {},
     "output_type": "execute_result"
    }
   ],
   "source": [
    "# renaming columns\n",
    "air_quality.columns = ['id', 'month', 'PM10', 'SO2', 'NOx', 'PM25', 'NH3', 'O3', 'CO', 'benzene', 'AQI']\n",
    "air_quality"
   ]
  },
  {
   "cell_type": "code",
   "execution_count": 5,
   "id": "9e318003",
   "metadata": {},
   "outputs": [
    {
     "name": "stdout",
     "output_type": "stream",
     "text": [
      "<class 'pandas.core.frame.DataFrame'>\n",
      "RangeIndex: 72 entries, 0 to 71\n",
      "Data columns (total 11 columns):\n",
      " #   Column   Non-Null Count  Dtype  \n",
      "---  ------   --------------  -----  \n",
      " 0   id       72 non-null     int64  \n",
      " 1   month    72 non-null     object \n",
      " 2   PM10     66 non-null     float64\n",
      " 3   SO2      71 non-null     float64\n",
      " 4   NOx      70 non-null     float64\n",
      " 5   PM25     72 non-null     int64  \n",
      " 6   NH3      72 non-null     float64\n",
      " 7   O3       72 non-null     float64\n",
      " 8   CO       72 non-null     float64\n",
      " 9   benzene  72 non-null     float64\n",
      " 10  AQI      67 non-null     float64\n",
      "dtypes: float64(8), int64(2), object(1)\n",
      "memory usage: 6.3+ KB\n"
     ]
    }
   ],
   "source": [
    "# checking data types\n",
    "air_quality.info()"
   ]
  },
  {
   "cell_type": "code",
   "execution_count": 6,
   "id": "0394fea6",
   "metadata": {},
   "outputs": [
    {
     "data": {
      "text/html": [
       "<div>\n",
       "<style scoped>\n",
       "    .dataframe tbody tr th:only-of-type {\n",
       "        vertical-align: middle;\n",
       "    }\n",
       "\n",
       "    .dataframe tbody tr th {\n",
       "        vertical-align: top;\n",
       "    }\n",
       "\n",
       "    .dataframe thead th {\n",
       "        text-align: right;\n",
       "    }\n",
       "</style>\n",
       "<table border=\"1\" class=\"dataframe\">\n",
       "  <thead>\n",
       "    <tr style=\"text-align: right;\">\n",
       "      <th></th>\n",
       "      <th>id</th>\n",
       "      <th>month</th>\n",
       "      <th>PM10</th>\n",
       "      <th>SO2</th>\n",
       "      <th>NOx</th>\n",
       "      <th>PM25</th>\n",
       "      <th>NH3</th>\n",
       "      <th>O3</th>\n",
       "      <th>CO</th>\n",
       "      <th>benzene</th>\n",
       "      <th>AQI</th>\n",
       "    </tr>\n",
       "  </thead>\n",
       "  <tbody>\n",
       "    <tr>\n",
       "      <th>0</th>\n",
       "      <td>1</td>\n",
       "      <td>Jan-17</td>\n",
       "      <td>174.0</td>\n",
       "      <td>26.4</td>\n",
       "      <td>35.0</td>\n",
       "      <td>79</td>\n",
       "      <td>25.0</td>\n",
       "      <td>107.6</td>\n",
       "      <td>0.9</td>\n",
       "      <td>0.7</td>\n",
       "      <td>149.0</td>\n",
       "    </tr>\n",
       "    <tr>\n",
       "      <th>1</th>\n",
       "      <td>2</td>\n",
       "      <td>Feb-17</td>\n",
       "      <td>143.0</td>\n",
       "      <td>35.1</td>\n",
       "      <td>40.3</td>\n",
       "      <td>75</td>\n",
       "      <td>31.0</td>\n",
       "      <td>103.0</td>\n",
       "      <td>0.9</td>\n",
       "      <td>0.9</td>\n",
       "      <td>129.0</td>\n",
       "    </tr>\n",
       "    <tr>\n",
       "      <th>2</th>\n",
       "      <td>3</td>\n",
       "      <td>Mar-17</td>\n",
       "      <td>142.0</td>\n",
       "      <td>32.1</td>\n",
       "      <td>30.9</td>\n",
       "      <td>59</td>\n",
       "      <td>26.0</td>\n",
       "      <td>80.7</td>\n",
       "      <td>0.8</td>\n",
       "      <td>0.5</td>\n",
       "      <td>128.0</td>\n",
       "    </tr>\n",
       "    <tr>\n",
       "      <th>3</th>\n",
       "      <td>4</td>\n",
       "      <td>Apr-17</td>\n",
       "      <td>117.0</td>\n",
       "      <td>50.9</td>\n",
       "      <td>36.3</td>\n",
       "      <td>75</td>\n",
       "      <td>36.0</td>\n",
       "      <td>79.5</td>\n",
       "      <td>0.9</td>\n",
       "      <td>0.7</td>\n",
       "      <td>111.0</td>\n",
       "    </tr>\n",
       "    <tr>\n",
       "      <th>4</th>\n",
       "      <td>5</td>\n",
       "      <td>May-17</td>\n",
       "      <td>NaN</td>\n",
       "      <td>41.6</td>\n",
       "      <td>25.2</td>\n",
       "      <td>53</td>\n",
       "      <td>28.0</td>\n",
       "      <td>70.0</td>\n",
       "      <td>0.5</td>\n",
       "      <td>0.5</td>\n",
       "      <td>NaN</td>\n",
       "    </tr>\n",
       "  </tbody>\n",
       "</table>\n",
       "</div>"
      ],
      "text/plain": [
       "   id   month   PM10   SO2   NOx  PM25   NH3     O3   CO  benzene    AQI\n",
       "0   1  Jan-17  174.0  26.4  35.0    79  25.0  107.6  0.9      0.7  149.0\n",
       "1   2  Feb-17  143.0  35.1  40.3    75  31.0  103.0  0.9      0.9  129.0\n",
       "2   3  Mar-17  142.0  32.1  30.9    59  26.0   80.7  0.8      0.5  128.0\n",
       "3   4  Apr-17  117.0  50.9  36.3    75  36.0   79.5  0.9      0.7  111.0\n",
       "4   5  May-17    NaN  41.6  25.2    53  28.0   70.0  0.5      0.5    NaN"
      ]
     },
     "execution_count": 6,
     "metadata": {},
     "output_type": "execute_result"
    }
   ],
   "source": [
    "air_quality.head()"
   ]
  },
  {
   "cell_type": "code",
   "execution_count": 7,
   "id": "619ace79",
   "metadata": {},
   "outputs": [],
   "source": [
    "# selecting only non-null aqi values\n",
    "aqi = air_quality.loc[air_quality.AQI.notnull()]"
   ]
  },
  {
   "cell_type": "code",
   "execution_count": 8,
   "id": "252d1ef8",
   "metadata": {},
   "outputs": [
    {
     "name": "stderr",
     "output_type": "stream",
     "text": [
      "C:\\Users\\danil\\AppData\\Local\\Temp\\ipykernel_19048\\2324931335.py:10: SettingWithCopyWarning: \n",
      "A value is trying to be set on a copy of a slice from a DataFrame.\n",
      "Try using .loc[row_indexer,col_indexer] = value instead\n",
      "\n",
      "See the caveats in the documentation: https://pandas.pydata.org/pandas-docs/stable/user_guide/indexing.html#returning-a-view-versus-a-copy\n",
      "  aqi.loc[index, 'level_of_concern'] = 'unhealthy for sensitive'\n"
     ]
    }
   ],
   "source": [
    "# creating new column with quality classification\n",
    "# with for loop\n",
    "\n",
    "for index, row in aqi.iterrows():\n",
    "    if row.AQI <50:\n",
    "        aqi.loc[index, 'level_of_concern'] = 'good'\n",
    "    elif row.AQI <100:\n",
    "        aqi.loc[index, 'level_of_concern'] = 'moderate'\n",
    "    elif row.AQI <150:\n",
    "        aqi.loc[index, 'level_of_concern'] = 'unhealthy for sensitive'\n",
    "    elif row.AQI <200:\n",
    "        aqi.loc[index, 'level_of_concern'] = 'unhealthy'\n",
    "    elif row.AQI <300:\n",
    "        aqi.loc[index, 'level_of_concern'] = 'very unhealthy'\n",
    "    elif row.AQI >301:\n",
    "        aqi.loc[index, 'level_of_concern'] = 'hazardous'\n",
    "    else: # for any null values / mistakes\n",
    "        aqi.loc[index, 'level_of_concern'] = '-1'"
   ]
  },
  {
   "cell_type": "code",
   "execution_count": 9,
   "id": "edd3752a",
   "metadata": {},
   "outputs": [
    {
     "data": {
      "text/html": [
       "<div>\n",
       "<style scoped>\n",
       "    .dataframe tbody tr th:only-of-type {\n",
       "        vertical-align: middle;\n",
       "    }\n",
       "\n",
       "    .dataframe tbody tr th {\n",
       "        vertical-align: top;\n",
       "    }\n",
       "\n",
       "    .dataframe thead th {\n",
       "        text-align: right;\n",
       "    }\n",
       "</style>\n",
       "<table border=\"1\" class=\"dataframe\">\n",
       "  <thead>\n",
       "    <tr style=\"text-align: right;\">\n",
       "      <th></th>\n",
       "      <th>level_of_concern</th>\n",
       "      <th>months_count</th>\n",
       "    </tr>\n",
       "  </thead>\n",
       "  <tbody>\n",
       "    <tr>\n",
       "      <th>0</th>\n",
       "      <td>unhealthy for sensitive</td>\n",
       "      <td>37</td>\n",
       "    </tr>\n",
       "    <tr>\n",
       "      <th>1</th>\n",
       "      <td>moderate</td>\n",
       "      <td>27</td>\n",
       "    </tr>\n",
       "    <tr>\n",
       "      <th>2</th>\n",
       "      <td>unhealthy</td>\n",
       "      <td>3</td>\n",
       "    </tr>\n",
       "  </tbody>\n",
       "</table>\n",
       "</div>"
      ],
      "text/plain": [
       "          level_of_concern  months_count\n",
       "0  unhealthy for sensitive            37\n",
       "1                 moderate            27\n",
       "2                unhealthy             3"
      ]
     },
     "execution_count": 9,
     "metadata": {},
     "output_type": "execute_result"
    }
   ],
   "source": [
    "# value counts for level of concern by number of months\n",
    "\n",
    "months_count = aqi.level_of_concern.value_counts().reset_index().rename(columns = {'index':'level_of_concern', 'level_of_concern':'months_count'})\n",
    "months_count"
   ]
  },
  {
   "cell_type": "code",
   "execution_count": 10,
   "id": "b3328f70",
   "metadata": {},
   "outputs": [
    {
     "name": "stderr",
     "output_type": "stream",
     "text": [
      "C:\\Users\\danil\\AppData\\Local\\Temp\\ipykernel_19048\\3700793192.py:2: SettingWithCopyWarning: \n",
      "A value is trying to be set on a copy of a slice from a DataFrame.\n",
      "Try using .loc[row_indexer,col_indexer] = value instead\n",
      "\n",
      "See the caveats in the documentation: https://pandas.pydata.org/pandas-docs/stable/user_guide/indexing.html#returning-a-view-versus-a-copy\n",
      "  aqi[\"year\"] = '20'\n",
      "C:\\Users\\danil\\AppData\\Local\\Temp\\ipykernel_19048\\3700793192.py:3: SettingWithCopyWarning: \n",
      "A value is trying to be set on a copy of a slice from a DataFrame.\n",
      "Try using .loc[row_indexer,col_indexer] = value instead\n",
      "\n",
      "See the caveats in the documentation: https://pandas.pydata.org/pandas-docs/stable/user_guide/indexing.html#returning-a-view-versus-a-copy\n",
      "  aqi.year = aqi.year+aqi.month.str.slice(-2) # this will still be an object dtype\n"
     ]
    },
    {
     "data": {
      "text/html": [
       "<div>\n",
       "<style scoped>\n",
       "    .dataframe tbody tr th:only-of-type {\n",
       "        vertical-align: middle;\n",
       "    }\n",
       "\n",
       "    .dataframe tbody tr th {\n",
       "        vertical-align: top;\n",
       "    }\n",
       "\n",
       "    .dataframe thead th {\n",
       "        text-align: right;\n",
       "    }\n",
       "</style>\n",
       "<table border=\"1\" class=\"dataframe\">\n",
       "  <thead>\n",
       "    <tr style=\"text-align: right;\">\n",
       "      <th></th>\n",
       "      <th>id</th>\n",
       "      <th>month</th>\n",
       "      <th>PM10</th>\n",
       "      <th>SO2</th>\n",
       "      <th>NOx</th>\n",
       "      <th>PM25</th>\n",
       "      <th>NH3</th>\n",
       "      <th>O3</th>\n",
       "      <th>CO</th>\n",
       "      <th>benzene</th>\n",
       "      <th>AQI</th>\n",
       "      <th>level_of_concern</th>\n",
       "      <th>year</th>\n",
       "    </tr>\n",
       "  </thead>\n",
       "  <tbody>\n",
       "    <tr>\n",
       "      <th>0</th>\n",
       "      <td>1</td>\n",
       "      <td>Jan-17</td>\n",
       "      <td>174.0</td>\n",
       "      <td>26.4</td>\n",
       "      <td>35.0</td>\n",
       "      <td>79</td>\n",
       "      <td>25.0</td>\n",
       "      <td>107.6</td>\n",
       "      <td>0.90</td>\n",
       "      <td>0.70</td>\n",
       "      <td>149.0</td>\n",
       "      <td>unhealthy for sensitive</td>\n",
       "      <td>2017</td>\n",
       "    </tr>\n",
       "    <tr>\n",
       "      <th>1</th>\n",
       "      <td>2</td>\n",
       "      <td>Feb-17</td>\n",
       "      <td>143.0</td>\n",
       "      <td>35.1</td>\n",
       "      <td>40.3</td>\n",
       "      <td>75</td>\n",
       "      <td>31.0</td>\n",
       "      <td>103.0</td>\n",
       "      <td>0.90</td>\n",
       "      <td>0.90</td>\n",
       "      <td>129.0</td>\n",
       "      <td>unhealthy for sensitive</td>\n",
       "      <td>2017</td>\n",
       "    </tr>\n",
       "    <tr>\n",
       "      <th>2</th>\n",
       "      <td>3</td>\n",
       "      <td>Mar-17</td>\n",
       "      <td>142.0</td>\n",
       "      <td>32.1</td>\n",
       "      <td>30.9</td>\n",
       "      <td>59</td>\n",
       "      <td>26.0</td>\n",
       "      <td>80.7</td>\n",
       "      <td>0.80</td>\n",
       "      <td>0.50</td>\n",
       "      <td>128.0</td>\n",
       "      <td>unhealthy for sensitive</td>\n",
       "      <td>2017</td>\n",
       "    </tr>\n",
       "    <tr>\n",
       "      <th>3</th>\n",
       "      <td>4</td>\n",
       "      <td>Apr-17</td>\n",
       "      <td>117.0</td>\n",
       "      <td>50.9</td>\n",
       "      <td>36.3</td>\n",
       "      <td>75</td>\n",
       "      <td>36.0</td>\n",
       "      <td>79.5</td>\n",
       "      <td>0.90</td>\n",
       "      <td>0.70</td>\n",
       "      <td>111.0</td>\n",
       "      <td>unhealthy for sensitive</td>\n",
       "      <td>2017</td>\n",
       "    </tr>\n",
       "    <tr>\n",
       "      <th>6</th>\n",
       "      <td>7</td>\n",
       "      <td>Jul-17</td>\n",
       "      <td>111.0</td>\n",
       "      <td>38.9</td>\n",
       "      <td>21.5</td>\n",
       "      <td>29</td>\n",
       "      <td>30.0</td>\n",
       "      <td>24.4</td>\n",
       "      <td>0.30</td>\n",
       "      <td>0.70</td>\n",
       "      <td>106.7</td>\n",
       "      <td>unhealthy for sensitive</td>\n",
       "      <td>2017</td>\n",
       "    </tr>\n",
       "    <tr>\n",
       "      <th>...</th>\n",
       "      <td>...</td>\n",
       "      <td>...</td>\n",
       "      <td>...</td>\n",
       "      <td>...</td>\n",
       "      <td>...</td>\n",
       "      <td>...</td>\n",
       "      <td>...</td>\n",
       "      <td>...</td>\n",
       "      <td>...</td>\n",
       "      <td>...</td>\n",
       "      <td>...</td>\n",
       "      <td>...</td>\n",
       "      <td>...</td>\n",
       "    </tr>\n",
       "    <tr>\n",
       "      <th>67</th>\n",
       "      <td>68</td>\n",
       "      <td>Aug-22</td>\n",
       "      <td>89.0</td>\n",
       "      <td>12.0</td>\n",
       "      <td>35.0</td>\n",
       "      <td>22</td>\n",
       "      <td>26.0</td>\n",
       "      <td>15.2</td>\n",
       "      <td>0.64</td>\n",
       "      <td>0.09</td>\n",
       "      <td>67.0</td>\n",
       "      <td>moderate</td>\n",
       "      <td>2022</td>\n",
       "    </tr>\n",
       "    <tr>\n",
       "      <th>68</th>\n",
       "      <td>69</td>\n",
       "      <td>Sep-22</td>\n",
       "      <td>92.0</td>\n",
       "      <td>13.0</td>\n",
       "      <td>37.3</td>\n",
       "      <td>30</td>\n",
       "      <td>31.0</td>\n",
       "      <td>10.0</td>\n",
       "      <td>0.70</td>\n",
       "      <td>0.06</td>\n",
       "      <td>76.0</td>\n",
       "      <td>moderate</td>\n",
       "      <td>2022</td>\n",
       "    </tr>\n",
       "    <tr>\n",
       "      <th>69</th>\n",
       "      <td>70</td>\n",
       "      <td>Oct-22</td>\n",
       "      <td>93.0</td>\n",
       "      <td>12.0</td>\n",
       "      <td>30.7</td>\n",
       "      <td>46</td>\n",
       "      <td>28.0</td>\n",
       "      <td>9.7</td>\n",
       "      <td>0.67</td>\n",
       "      <td>0.07</td>\n",
       "      <td>101.0</td>\n",
       "      <td>unhealthy for sensitive</td>\n",
       "      <td>2022</td>\n",
       "    </tr>\n",
       "    <tr>\n",
       "      <th>70</th>\n",
       "      <td>71</td>\n",
       "      <td>Nov-22</td>\n",
       "      <td>87.0</td>\n",
       "      <td>10.4</td>\n",
       "      <td>28.2</td>\n",
       "      <td>78</td>\n",
       "      <td>30.0</td>\n",
       "      <td>12.1</td>\n",
       "      <td>1.52</td>\n",
       "      <td>0.03</td>\n",
       "      <td>166.0</td>\n",
       "      <td>unhealthy</td>\n",
       "      <td>2022</td>\n",
       "    </tr>\n",
       "    <tr>\n",
       "      <th>71</th>\n",
       "      <td>72</td>\n",
       "      <td>Dec-22</td>\n",
       "      <td>88.0</td>\n",
       "      <td>13.0</td>\n",
       "      <td>34.5</td>\n",
       "      <td>72</td>\n",
       "      <td>15.0</td>\n",
       "      <td>16.5</td>\n",
       "      <td>1.39</td>\n",
       "      <td>0.04</td>\n",
       "      <td>162.0</td>\n",
       "      <td>unhealthy</td>\n",
       "      <td>2022</td>\n",
       "    </tr>\n",
       "  </tbody>\n",
       "</table>\n",
       "<p>67 rows × 13 columns</p>\n",
       "</div>"
      ],
      "text/plain": [
       "    id   month   PM10   SO2   NOx  PM25   NH3     O3    CO  benzene    AQI  \\\n",
       "0    1  Jan-17  174.0  26.4  35.0    79  25.0  107.6  0.90     0.70  149.0   \n",
       "1    2  Feb-17  143.0  35.1  40.3    75  31.0  103.0  0.90     0.90  129.0   \n",
       "2    3  Mar-17  142.0  32.1  30.9    59  26.0   80.7  0.80     0.50  128.0   \n",
       "3    4  Apr-17  117.0  50.9  36.3    75  36.0   79.5  0.90     0.70  111.0   \n",
       "6    7  Jul-17  111.0  38.9  21.5    29  30.0   24.4  0.30     0.70  106.7   \n",
       "..  ..     ...    ...   ...   ...   ...   ...    ...   ...      ...    ...   \n",
       "67  68  Aug-22   89.0  12.0  35.0    22  26.0   15.2  0.64     0.09   67.0   \n",
       "68  69  Sep-22   92.0  13.0  37.3    30  31.0   10.0  0.70     0.06   76.0   \n",
       "69  70  Oct-22   93.0  12.0  30.7    46  28.0    9.7  0.67     0.07  101.0   \n",
       "70  71  Nov-22   87.0  10.4  28.2    78  30.0   12.1  1.52     0.03  166.0   \n",
       "71  72  Dec-22   88.0  13.0  34.5    72  15.0   16.5  1.39     0.04  162.0   \n",
       "\n",
       "           level_of_concern  year  \n",
       "0   unhealthy for sensitive  2017  \n",
       "1   unhealthy for sensitive  2017  \n",
       "2   unhealthy for sensitive  2017  \n",
       "3   unhealthy for sensitive  2017  \n",
       "6   unhealthy for sensitive  2017  \n",
       "..                      ...   ...  \n",
       "67                 moderate  2022  \n",
       "68                 moderate  2022  \n",
       "69  unhealthy for sensitive  2022  \n",
       "70                unhealthy  2022  \n",
       "71                unhealthy  2022  \n",
       "\n",
       "[67 rows x 13 columns]"
      ]
     },
     "execution_count": 10,
     "metadata": {},
     "output_type": "execute_result"
    }
   ],
   "source": [
    "# creating new year column\n",
    "aqi[\"year\"] = '20'\n",
    "aqi.year = aqi.year+aqi.month.str.slice(-2) # this will still be an object dtype\n",
    "aqi"
   ]
  },
  {
   "cell_type": "code",
   "execution_count": 11,
   "id": "29401c46",
   "metadata": {},
   "outputs": [
    {
     "name": "stderr",
     "output_type": "stream",
     "text": [
      "C:\\Users\\danil\\AppData\\Local\\Temp\\ipykernel_19048\\2741960501.py:2: SettingWithCopyWarning: \n",
      "A value is trying to be set on a copy of a slice from a DataFrame.\n",
      "Try using .loc[row_indexer,col_indexer] = value instead\n",
      "\n",
      "See the caveats in the documentation: https://pandas.pydata.org/pandas-docs/stable/user_guide/indexing.html#returning-a-view-versus-a-copy\n",
      "  aqi.month = aqi.month.str[0:3]\n"
     ]
    }
   ],
   "source": [
    "# simplifying month column\n",
    "aqi.month = aqi.month.str[0:3]"
   ]
  },
  {
   "cell_type": "code",
   "execution_count": 12,
   "id": "066d26e3",
   "metadata": {},
   "outputs": [],
   "source": [
    "# rearranging columns\n",
    "aqi = aqi[['id', 'month', 'year', 'PM10', 'SO2', 'NOx', 'PM25', 'NH3', 'O3', 'CO', 'benzene', 'AQI', 'level_of_concern']]"
   ]
  },
  {
   "cell_type": "code",
   "execution_count": 13,
   "id": "b7dae3c9",
   "metadata": {},
   "outputs": [],
   "source": [
    "# creating new df for high concern\n",
    "unhealthy = aqi.loc[aqi.AQI > 100]"
   ]
  },
  {
   "cell_type": "code",
   "execution_count": 14,
   "id": "5aa7d651",
   "metadata": {},
   "outputs": [
    {
     "data": {
      "text/plain": [
       "Jan    6\n",
       "Mar    6\n",
       "Feb    5\n",
       "Apr    4\n",
       "May    4\n",
       "Dec    4\n",
       "Oct    3\n",
       "Nov    3\n",
       "Jul    2\n",
       "Jun    2\n",
       "Aug    1\n",
       "Name: month, dtype: int64"
      ]
     },
     "execution_count": 14,
     "metadata": {},
     "output_type": "execute_result"
    }
   ],
   "source": [
    "# any months that seem to be higher?\n",
    "# grouping by month\n",
    "unhealthy.month.value_counts()"
   ]
  },
  {
   "cell_type": "code",
   "execution_count": 15,
   "id": "187b7260",
   "metadata": {
    "scrolled": true
   },
   "outputs": [
    {
     "data": {
      "text/plain": [
       "2020    9\n",
       "2018    8\n",
       "2022    8\n",
       "2017    6\n",
       "2019    6\n",
       "2021    3\n",
       "Name: year, dtype: int64"
      ]
     },
     "execution_count": 15,
     "metadata": {},
     "output_type": "execute_result"
    }
   ],
   "source": [
    "# grouping by months in a year\n",
    "unhealthy.year.value_counts()"
   ]
  },
  {
   "cell_type": "markdown",
   "id": "ae35316d",
   "metadata": {},
   "source": [
    "Interesting that 2020 claims the highest amount of months that were considered an unhealthy level of concern... I would have estiamated it to be less with travel ceasing for many people. Perhaps COVID-19 affected a packed city like Hyderabad differently than many other cities in the world. Or, perhaps there are other greater contributing factors to decreased air quality than travel - factories? weather? fires?"
   ]
  },
  {
   "cell_type": "code",
   "execution_count": 16,
   "id": "0db1633a",
   "metadata": {},
   "outputs": [
    {
     "data": {
      "text/html": [
       "<div>\n",
       "<style scoped>\n",
       "    .dataframe tbody tr th:only-of-type {\n",
       "        vertical-align: middle;\n",
       "    }\n",
       "\n",
       "    .dataframe tbody tr th {\n",
       "        vertical-align: top;\n",
       "    }\n",
       "\n",
       "    .dataframe thead th {\n",
       "        text-align: right;\n",
       "    }\n",
       "</style>\n",
       "<table border=\"1\" class=\"dataframe\">\n",
       "  <thead>\n",
       "    <tr style=\"text-align: right;\">\n",
       "      <th></th>\n",
       "      <th>id</th>\n",
       "      <th>month</th>\n",
       "      <th>year</th>\n",
       "      <th>PM10</th>\n",
       "      <th>SO2</th>\n",
       "      <th>NOx</th>\n",
       "      <th>PM25</th>\n",
       "      <th>NH3</th>\n",
       "      <th>O3</th>\n",
       "      <th>CO</th>\n",
       "      <th>benzene</th>\n",
       "      <th>AQI</th>\n",
       "      <th>level_of_concern</th>\n",
       "    </tr>\n",
       "  </thead>\n",
       "  <tbody>\n",
       "    <tr>\n",
       "      <th>0</th>\n",
       "      <td>1</td>\n",
       "      <td>Jan</td>\n",
       "      <td>2017</td>\n",
       "      <td>174.0</td>\n",
       "      <td>26.4</td>\n",
       "      <td>35.0</td>\n",
       "      <td>79</td>\n",
       "      <td>25.0</td>\n",
       "      <td>107.6</td>\n",
       "      <td>0.90</td>\n",
       "      <td>0.70</td>\n",
       "      <td>149.0</td>\n",
       "      <td>unhealthy for sensitive</td>\n",
       "    </tr>\n",
       "    <tr>\n",
       "      <th>1</th>\n",
       "      <td>2</td>\n",
       "      <td>Feb</td>\n",
       "      <td>2017</td>\n",
       "      <td>143.0</td>\n",
       "      <td>35.1</td>\n",
       "      <td>40.3</td>\n",
       "      <td>75</td>\n",
       "      <td>31.0</td>\n",
       "      <td>103.0</td>\n",
       "      <td>0.90</td>\n",
       "      <td>0.90</td>\n",
       "      <td>129.0</td>\n",
       "      <td>unhealthy for sensitive</td>\n",
       "    </tr>\n",
       "    <tr>\n",
       "      <th>2</th>\n",
       "      <td>3</td>\n",
       "      <td>Mar</td>\n",
       "      <td>2017</td>\n",
       "      <td>142.0</td>\n",
       "      <td>32.1</td>\n",
       "      <td>30.9</td>\n",
       "      <td>59</td>\n",
       "      <td>26.0</td>\n",
       "      <td>80.7</td>\n",
       "      <td>0.80</td>\n",
       "      <td>0.50</td>\n",
       "      <td>128.0</td>\n",
       "      <td>unhealthy for sensitive</td>\n",
       "    </tr>\n",
       "    <tr>\n",
       "      <th>3</th>\n",
       "      <td>4</td>\n",
       "      <td>Apr</td>\n",
       "      <td>2017</td>\n",
       "      <td>117.0</td>\n",
       "      <td>50.9</td>\n",
       "      <td>36.3</td>\n",
       "      <td>75</td>\n",
       "      <td>36.0</td>\n",
       "      <td>79.5</td>\n",
       "      <td>0.90</td>\n",
       "      <td>0.70</td>\n",
       "      <td>111.0</td>\n",
       "      <td>unhealthy for sensitive</td>\n",
       "    </tr>\n",
       "    <tr>\n",
       "      <th>6</th>\n",
       "      <td>7</td>\n",
       "      <td>Jul</td>\n",
       "      <td>2017</td>\n",
       "      <td>111.0</td>\n",
       "      <td>38.9</td>\n",
       "      <td>21.5</td>\n",
       "      <td>29</td>\n",
       "      <td>30.0</td>\n",
       "      <td>24.4</td>\n",
       "      <td>0.30</td>\n",
       "      <td>0.70</td>\n",
       "      <td>106.7</td>\n",
       "      <td>unhealthy for sensitive</td>\n",
       "    </tr>\n",
       "    <tr>\n",
       "      <th>...</th>\n",
       "      <td>...</td>\n",
       "      <td>...</td>\n",
       "      <td>...</td>\n",
       "      <td>...</td>\n",
       "      <td>...</td>\n",
       "      <td>...</td>\n",
       "      <td>...</td>\n",
       "      <td>...</td>\n",
       "      <td>...</td>\n",
       "      <td>...</td>\n",
       "      <td>...</td>\n",
       "      <td>...</td>\n",
       "      <td>...</td>\n",
       "    </tr>\n",
       "    <tr>\n",
       "      <th>67</th>\n",
       "      <td>68</td>\n",
       "      <td>Aug</td>\n",
       "      <td>2022</td>\n",
       "      <td>89.0</td>\n",
       "      <td>12.0</td>\n",
       "      <td>35.0</td>\n",
       "      <td>22</td>\n",
       "      <td>26.0</td>\n",
       "      <td>15.2</td>\n",
       "      <td>0.64</td>\n",
       "      <td>0.09</td>\n",
       "      <td>67.0</td>\n",
       "      <td>moderate</td>\n",
       "    </tr>\n",
       "    <tr>\n",
       "      <th>68</th>\n",
       "      <td>69</td>\n",
       "      <td>Sep</td>\n",
       "      <td>2022</td>\n",
       "      <td>92.0</td>\n",
       "      <td>13.0</td>\n",
       "      <td>37.3</td>\n",
       "      <td>30</td>\n",
       "      <td>31.0</td>\n",
       "      <td>10.0</td>\n",
       "      <td>0.70</td>\n",
       "      <td>0.06</td>\n",
       "      <td>76.0</td>\n",
       "      <td>moderate</td>\n",
       "    </tr>\n",
       "    <tr>\n",
       "      <th>69</th>\n",
       "      <td>70</td>\n",
       "      <td>Oct</td>\n",
       "      <td>2022</td>\n",
       "      <td>93.0</td>\n",
       "      <td>12.0</td>\n",
       "      <td>30.7</td>\n",
       "      <td>46</td>\n",
       "      <td>28.0</td>\n",
       "      <td>9.7</td>\n",
       "      <td>0.67</td>\n",
       "      <td>0.07</td>\n",
       "      <td>101.0</td>\n",
       "      <td>unhealthy for sensitive</td>\n",
       "    </tr>\n",
       "    <tr>\n",
       "      <th>70</th>\n",
       "      <td>71</td>\n",
       "      <td>Nov</td>\n",
       "      <td>2022</td>\n",
       "      <td>87.0</td>\n",
       "      <td>10.4</td>\n",
       "      <td>28.2</td>\n",
       "      <td>78</td>\n",
       "      <td>30.0</td>\n",
       "      <td>12.1</td>\n",
       "      <td>1.52</td>\n",
       "      <td>0.03</td>\n",
       "      <td>166.0</td>\n",
       "      <td>unhealthy</td>\n",
       "    </tr>\n",
       "    <tr>\n",
       "      <th>71</th>\n",
       "      <td>72</td>\n",
       "      <td>Dec</td>\n",
       "      <td>2022</td>\n",
       "      <td>88.0</td>\n",
       "      <td>13.0</td>\n",
       "      <td>34.5</td>\n",
       "      <td>72</td>\n",
       "      <td>15.0</td>\n",
       "      <td>16.5</td>\n",
       "      <td>1.39</td>\n",
       "      <td>0.04</td>\n",
       "      <td>162.0</td>\n",
       "      <td>unhealthy</td>\n",
       "    </tr>\n",
       "  </tbody>\n",
       "</table>\n",
       "<p>67 rows × 13 columns</p>\n",
       "</div>"
      ],
      "text/plain": [
       "    id month  year   PM10   SO2   NOx  PM25   NH3     O3    CO  benzene  \\\n",
       "0    1   Jan  2017  174.0  26.4  35.0    79  25.0  107.6  0.90     0.70   \n",
       "1    2   Feb  2017  143.0  35.1  40.3    75  31.0  103.0  0.90     0.90   \n",
       "2    3   Mar  2017  142.0  32.1  30.9    59  26.0   80.7  0.80     0.50   \n",
       "3    4   Apr  2017  117.0  50.9  36.3    75  36.0   79.5  0.90     0.70   \n",
       "6    7   Jul  2017  111.0  38.9  21.5    29  30.0   24.4  0.30     0.70   \n",
       "..  ..   ...   ...    ...   ...   ...   ...   ...    ...   ...      ...   \n",
       "67  68   Aug  2022   89.0  12.0  35.0    22  26.0   15.2  0.64     0.09   \n",
       "68  69   Sep  2022   92.0  13.0  37.3    30  31.0   10.0  0.70     0.06   \n",
       "69  70   Oct  2022   93.0  12.0  30.7    46  28.0    9.7  0.67     0.07   \n",
       "70  71   Nov  2022   87.0  10.4  28.2    78  30.0   12.1  1.52     0.03   \n",
       "71  72   Dec  2022   88.0  13.0  34.5    72  15.0   16.5  1.39     0.04   \n",
       "\n",
       "      AQI         level_of_concern  \n",
       "0   149.0  unhealthy for sensitive  \n",
       "1   129.0  unhealthy for sensitive  \n",
       "2   128.0  unhealthy for sensitive  \n",
       "3   111.0  unhealthy for sensitive  \n",
       "6   106.7  unhealthy for sensitive  \n",
       "..    ...                      ...  \n",
       "67   67.0                 moderate  \n",
       "68   76.0                 moderate  \n",
       "69  101.0  unhealthy for sensitive  \n",
       "70  166.0                unhealthy  \n",
       "71  162.0                unhealthy  \n",
       "\n",
       "[67 rows x 13 columns]"
      ]
     },
     "execution_count": 16,
     "metadata": {},
     "output_type": "execute_result"
    }
   ],
   "source": [
    "aqi"
   ]
  },
  {
   "cell_type": "markdown",
   "id": "1690fdc3",
   "metadata": {},
   "source": [
    "Are there any particular pollutants that seem to influence overall AQI more than others?"
   ]
  },
  {
   "cell_type": "code",
   "execution_count": 17,
   "id": "004c8e1e",
   "metadata": {},
   "outputs": [
    {
     "data": {
      "text/plain": [
       "178.0"
      ]
     },
     "execution_count": 17,
     "metadata": {},
     "output_type": "execute_result"
    }
   ],
   "source": [
    "aqi.PM10.max()"
   ]
  },
  {
   "cell_type": "code",
   "execution_count": 18,
   "id": "c5033c61",
   "metadata": {},
   "outputs": [
    {
     "data": {
      "text/plain": [
       "76.0"
      ]
     },
     "execution_count": 18,
     "metadata": {},
     "output_type": "execute_result"
    }
   ],
   "source": [
    "aqi.PM10.min()"
   ]
  },
  {
   "cell_type": "code",
   "execution_count": 19,
   "id": "0f804b76",
   "metadata": {},
   "outputs": [
    {
     "data": {
      "image/png": "[encoded data removed]",
      "text/plain": [
       "<Figure size 432x288 with 1 Axes>"
      ]
     },
     "metadata": {
      "needs_background": "light"
     },
     "output_type": "display_data"
    }
   ],
   "source": [
    "# zoom in on single month through years (Jan)\n",
    "aqi.loc[aqi.month == 'Jan'].plot(x='year', y='AQI');"
   ]
  },
  {
   "cell_type": "code",
   "execution_count": 20,
   "id": "671f75d4",
   "metadata": {},
   "outputs": [
    {
     "data": {
      "image/png": "[encoded data removed]",
      "text/plain": [
       "<Figure size 432x288 with 1 Axes>"
      ]
     },
     "metadata": {
      "needs_background": "light"
     },
     "output_type": "display_data"
    }
   ],
   "source": [
    "# zoom in on Feb\n",
    "aqi.loc[aqi.month == 'Feb'].plot(x='year', y='AQI');"
   ]
  },
  {
   "cell_type": "code",
   "execution_count": 21,
   "id": "275f4f6e",
   "metadata": {},
   "outputs": [
    {
     "data": {
      "image/png": "[encoded data removed]",
      "text/plain": [
       "<Figure size 432x288 with 1 Axes>"
      ]
     },
     "metadata": {
      "needs_background": "light"
     },
     "output_type": "display_data"
    }
   ],
   "source": [
    "# zoom in on Mar\n",
    "aqi.loc[aqi.month == 'Mar'].plot(x='year', y='AQI');"
   ]
  },
  {
   "cell_type": "code",
   "execution_count": 22,
   "id": "7a76a667",
   "metadata": {},
   "outputs": [
    {
     "data": {
      "image/png": "[encoded data removed]",
      "text/plain": [
       "<Figure size 432x288 with 1 Axes>"
      ]
     },
     "metadata": {
      "needs_background": "light"
     },
     "output_type": "display_data"
    }
   ],
   "source": [
    "# zoom in on Apr\n",
    "aqi.loc[aqi.month == 'Apr'].plot(x='year', y='AQI');"
   ]
  },
  {
   "cell_type": "code",
   "execution_count": 23,
   "id": "d98f7418",
   "metadata": {},
   "outputs": [
    {
     "data": {
      "image/png": "[encoded data removed]",
      "text/plain": [
       "<Figure size 432x288 with 1 Axes>"
      ]
     },
     "metadata": {
      "needs_background": "light"
     },
     "output_type": "display_data"
    }
   ],
   "source": [
    "# zoom in on May\n",
    "aqi.loc[aqi.month == 'May'].plot(x='year', y='AQI');"
   ]
  },
  {
   "cell_type": "code",
   "execution_count": 24,
   "id": "d120b9eb",
   "metadata": {},
   "outputs": [
    {
     "data": {
      "image/png": "[encoded data removed]",
      "text/plain": [
       "<Figure size 432x288 with 1 Axes>"
      ]
     },
     "metadata": {
      "needs_background": "light"
     },
     "output_type": "display_data"
    }
   ],
   "source": [
    "# zoom in on Jun\n",
    "aqi.loc[aqi.month == 'Jun'].plot(x='year', y='AQI');"
   ]
  },
  {
   "cell_type": "code",
   "execution_count": 25,
   "id": "d382db7b",
   "metadata": {},
   "outputs": [
    {
     "data": {
      "image/png": "[encoded data removed]",
      "text/plain": [
       "<Figure size 432x288 with 1 Axes>"
      ]
     },
     "metadata": {
      "needs_background": "light"
     },
     "output_type": "display_data"
    }
   ],
   "source": [
    "# zoom in on Jul\n",
    "aqi.loc[aqi.month == 'Jul'].plot(x='year', y='AQI');"
   ]
  },
  {
   "cell_type": "code",
   "execution_count": 26,
   "id": "e19ac649",
   "metadata": {},
   "outputs": [
    {
     "data": {
      "image/png": "[encoded data removed]",
      "text/plain": [
       "<Figure size 432x288 with 1 Axes>"
      ]
     },
     "metadata": {
      "needs_background": "light"
     },
     "output_type": "display_data"
    }
   ],
   "source": [
    "# zoom in on Aug\n",
    "aqi.loc[aqi.month == 'Aug'].plot(x='year', y='AQI');"
   ]
  },
  {
   "cell_type": "code",
   "execution_count": 27,
   "id": "c8c2a44a",
   "metadata": {},
   "outputs": [
    {
     "data": {
      "image/png": "[encoded data removed]",
      "text/plain": [
       "<Figure size 432x288 with 1 Axes>"
      ]
     },
     "metadata": {
      "needs_background": "light"
     },
     "output_type": "display_data"
    }
   ],
   "source": [
    "# zoom in on Sep\n",
    "aqi.loc[aqi.month == 'Sep'].plot(x='year', y='AQI');"
   ]
  },
  {
   "cell_type": "code",
   "execution_count": 28,
   "id": "d6728e33",
   "metadata": {},
   "outputs": [
    {
     "data": {
      "image/png": "[encoded data removed]",
      "text/plain": [
       "<Figure size 432x288 with 1 Axes>"
      ]
     },
     "metadata": {
      "needs_background": "light"
     },
     "output_type": "display_data"
    }
   ],
   "source": [
    "# zoom in on Oct\n",
    "aqi.loc[aqi.month == 'Oct'].plot(x='year', y='AQI');"
   ]
  },
  {
   "cell_type": "code",
   "execution_count": 29,
   "id": "3097534b",
   "metadata": {},
   "outputs": [
    {
     "data": {
      "image/png": "[encoded data removed]",
      "text/plain": [
       "<Figure size 432x288 with 1 Axes>"
      ]
     },
     "metadata": {
      "needs_background": "light"
     },
     "output_type": "display_data"
    }
   ],
   "source": [
    "# zoom in on Nov\n",
    "aqi.loc[aqi.month == 'Nov'].plot(x='year', y='AQI');"
   ]
  },
  {
   "cell_type": "code",
   "execution_count": 30,
   "id": "82f58f46",
   "metadata": {
    "scrolled": true
   },
   "outputs": [
    {
     "data": {
      "image/png": "[encoded data removed]",
      "text/plain": [
       "<Figure size 432x288 with 1 Axes>"
      ]
     },
     "metadata": {
      "needs_background": "light"
     },
     "output_type": "display_data"
    }
   ],
   "source": [
    "# zoom in on Dec\n",
    "aqi.loc[aqi.month == 'Dec'].plot(x='year', y='AQI');"
   ]
  },
  {
   "cell_type": "code",
   "execution_count": 38,
   "id": "7cd5ab5a",
   "metadata": {},
   "outputs": [
    {
     "data": {
      "text/html": [
       "<div>\n",
       "<style scoped>\n",
       "    .dataframe tbody tr th:only-of-type {\n",
       "        vertical-align: middle;\n",
       "    }\n",
       "\n",
       "    .dataframe tbody tr th {\n",
       "        vertical-align: top;\n",
       "    }\n",
       "\n",
       "    .dataframe thead th {\n",
       "        text-align: right;\n",
       "    }\n",
       "</style>\n",
       "<table border=\"1\" class=\"dataframe\">\n",
       "  <thead>\n",
       "    <tr style=\"text-align: right;\">\n",
       "      <th></th>\n",
       "      <th>id</th>\n",
       "      <th>month</th>\n",
       "      <th>year</th>\n",
       "      <th>PM10</th>\n",
       "      <th>SO2</th>\n",
       "      <th>NOx</th>\n",
       "      <th>PM25</th>\n",
       "      <th>NH3</th>\n",
       "      <th>O3</th>\n",
       "      <th>CO</th>\n",
       "      <th>benzene</th>\n",
       "      <th>AQI</th>\n",
       "      <th>level_of_concern</th>\n",
       "    </tr>\n",
       "  </thead>\n",
       "  <tbody>\n",
       "    <tr>\n",
       "      <th>0</th>\n",
       "      <td>1</td>\n",
       "      <td>Jan</td>\n",
       "      <td>2017</td>\n",
       "      <td>174.0</td>\n",
       "      <td>26.4</td>\n",
       "      <td>35.0</td>\n",
       "      <td>79</td>\n",
       "      <td>25.0</td>\n",
       "      <td>107.6</td>\n",
       "      <td>0.9</td>\n",
       "      <td>0.7</td>\n",
       "      <td>149.0</td>\n",
       "      <td>unhealthy for sensitive</td>\n",
       "    </tr>\n",
       "    <tr>\n",
       "      <th>1</th>\n",
       "      <td>2</td>\n",
       "      <td>Feb</td>\n",
       "      <td>2017</td>\n",
       "      <td>143.0</td>\n",
       "      <td>35.1</td>\n",
       "      <td>40.3</td>\n",
       "      <td>75</td>\n",
       "      <td>31.0</td>\n",
       "      <td>103.0</td>\n",
       "      <td>0.9</td>\n",
       "      <td>0.9</td>\n",
       "      <td>129.0</td>\n",
       "      <td>unhealthy for sensitive</td>\n",
       "    </tr>\n",
       "    <tr>\n",
       "      <th>2</th>\n",
       "      <td>3</td>\n",
       "      <td>Mar</td>\n",
       "      <td>2017</td>\n",
       "      <td>142.0</td>\n",
       "      <td>32.1</td>\n",
       "      <td>30.9</td>\n",
       "      <td>59</td>\n",
       "      <td>26.0</td>\n",
       "      <td>80.7</td>\n",
       "      <td>0.8</td>\n",
       "      <td>0.5</td>\n",
       "      <td>128.0</td>\n",
       "      <td>unhealthy for sensitive</td>\n",
       "    </tr>\n",
       "    <tr>\n",
       "      <th>3</th>\n",
       "      <td>4</td>\n",
       "      <td>Apr</td>\n",
       "      <td>2017</td>\n",
       "      <td>117.0</td>\n",
       "      <td>50.9</td>\n",
       "      <td>36.3</td>\n",
       "      <td>75</td>\n",
       "      <td>36.0</td>\n",
       "      <td>79.5</td>\n",
       "      <td>0.9</td>\n",
       "      <td>0.7</td>\n",
       "      <td>111.0</td>\n",
       "      <td>unhealthy for sensitive</td>\n",
       "    </tr>\n",
       "    <tr>\n",
       "      <th>6</th>\n",
       "      <td>7</td>\n",
       "      <td>Jul</td>\n",
       "      <td>2017</td>\n",
       "      <td>111.0</td>\n",
       "      <td>38.9</td>\n",
       "      <td>21.5</td>\n",
       "      <td>29</td>\n",
       "      <td>30.0</td>\n",
       "      <td>24.4</td>\n",
       "      <td>0.3</td>\n",
       "      <td>0.7</td>\n",
       "      <td>106.7</td>\n",
       "      <td>unhealthy for sensitive</td>\n",
       "    </tr>\n",
       "    <tr>\n",
       "      <th>7</th>\n",
       "      <td>8</td>\n",
       "      <td>Aug</td>\n",
       "      <td>2017</td>\n",
       "      <td>78.0</td>\n",
       "      <td>36.0</td>\n",
       "      <td>18.4</td>\n",
       "      <td>35</td>\n",
       "      <td>23.0</td>\n",
       "      <td>22.5</td>\n",
       "      <td>0.4</td>\n",
       "      <td>0.5</td>\n",
       "      <td>78.3</td>\n",
       "      <td>moderate</td>\n",
       "    </tr>\n",
       "    <tr>\n",
       "      <th>8</th>\n",
       "      <td>9</td>\n",
       "      <td>Sep</td>\n",
       "      <td>2017</td>\n",
       "      <td>86.0</td>\n",
       "      <td>30.0</td>\n",
       "      <td>22.3</td>\n",
       "      <td>39</td>\n",
       "      <td>20.0</td>\n",
       "      <td>35.2</td>\n",
       "      <td>0.4</td>\n",
       "      <td>0.4</td>\n",
       "      <td>86.0</td>\n",
       "      <td>moderate</td>\n",
       "    </tr>\n",
       "    <tr>\n",
       "      <th>9</th>\n",
       "      <td>10</td>\n",
       "      <td>Oct</td>\n",
       "      <td>2017</td>\n",
       "      <td>146.0</td>\n",
       "      <td>37.1</td>\n",
       "      <td>32.6</td>\n",
       "      <td>63</td>\n",
       "      <td>23.0</td>\n",
       "      <td>52.8</td>\n",
       "      <td>0.6</td>\n",
       "      <td>0.5</td>\n",
       "      <td>130.0</td>\n",
       "      <td>unhealthy for sensitive</td>\n",
       "    </tr>\n",
       "  </tbody>\n",
       "</table>\n",
       "</div>"
      ],
      "text/plain": [
       "   id month  year   PM10   SO2   NOx  PM25   NH3     O3   CO  benzene    AQI  \\\n",
       "0   1   Jan  2017  174.0  26.4  35.0    79  25.0  107.6  0.9      0.7  149.0   \n",
       "1   2   Feb  2017  143.0  35.1  40.3    75  31.0  103.0  0.9      0.9  129.0   \n",
       "2   3   Mar  2017  142.0  32.1  30.9    59  26.0   80.7  0.8      0.5  128.0   \n",
       "3   4   Apr  2017  117.0  50.9  36.3    75  36.0   79.5  0.9      0.7  111.0   \n",
       "6   7   Jul  2017  111.0  38.9  21.5    29  30.0   24.4  0.3      0.7  106.7   \n",
       "7   8   Aug  2017   78.0  36.0  18.4    35  23.0   22.5  0.4      0.5   78.3   \n",
       "8   9   Sep  2017   86.0  30.0  22.3    39  20.0   35.2  0.4      0.4   86.0   \n",
       "9  10   Oct  2017  146.0  37.1  32.6    63  23.0   52.8  0.6      0.5  130.0   \n",
       "\n",
       "          level_of_concern  \n",
       "0  unhealthy for sensitive  \n",
       "1  unhealthy for sensitive  \n",
       "2  unhealthy for sensitive  \n",
       "3  unhealthy for sensitive  \n",
       "6  unhealthy for sensitive  \n",
       "7                 moderate  \n",
       "8                 moderate  \n",
       "9  unhealthy for sensitive  "
      ]
     },
     "execution_count": 38,
     "metadata": {},
     "output_type": "execute_result"
    }
   ],
   "source": [
    "aqi_2017"
   ]
  },
  {
   "cell_type": "code",
   "execution_count": 47,
   "id": "831f3f31",
   "metadata": {},
   "outputs": [
    {
     "data": {
      "image/png": "[encoded data removed]",
      "text/plain": [
       "<Figure size 432x288 with 1 Axes>"
      ]
     },
     "metadata": {
      "needs_background": "light"
     },
     "output_type": "display_data"
    }
   ],
   "source": [
    "# creating dfs for each year\n",
    "aqi_2017 = aqi.loc[aqi.year == '2017']\n",
    "aqi_2017.plot(x='month', y=['AQI', 'PM10', 'SO2', 'NOx', 'PM25', 'NH3', 'O3'], title='2017');"
   ]
  },
  {
   "cell_type": "code",
   "execution_count": null,
   "id": "98440f58",
   "metadata": {},
   "outputs": [],
   "source": []
  },
  {
   "cell_type": "code",
   "execution_count": null,
   "id": "d08f12d4",
   "metadata": {},
   "outputs": [],
   "source": []
  }
 ],
 "metadata": {
  "kernelspec": {
   "display_name": "Python 3 (ipykernel)",
   "language": "python",
   "name": "python3"
  },
  "language_info": {
   "codemirror_mode": {
    "name": "ipython",
    "version": 3
   },
   "file_extension": ".py",
   "mimetype": "text/x-python",
   "name": "python",
   "nbconvert_exporter": "python",
   "pygments_lexer": "ipython3",
   "version": "3.9.12"
  }
 },
 "nbformat": 4,
 "nbformat_minor": 5
}
