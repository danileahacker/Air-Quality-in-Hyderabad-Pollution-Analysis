{
 "cells": [
  {
   "cell_type": "code",
   "execution_count": 1,
   "id": "d34479a2",
   "metadata": {},
   "outputs": [],
   "source": [
    "import pandas as pd\n",
    "import matplotlib.pyplot as plt\n",
    "import seaborn as sns"
   ]
  },
  {
   "cell_type": "code",
   "execution_count": 2,
   "id": "4dbe27f1",
   "metadata": {},
   "outputs": [],
   "source": [
    "# exploration questions:\n",
    "# are there any months in the year that seem to be higher AQI? lower AQI?\n",
    "# are there any gases that change in level frequently? are there any that seem to change in tandem with others?"
   ]
  },
  {
   "cell_type": "markdown",
   "id": "d79eba0b",
   "metadata": {},
   "source": [
    "## AQI Basics\n",
    "\n",
    "    Daily AQI color     Level of concern           Value of index     Desc. of air quality\n",
    "\n",
    "    Green               Good                       0 to 50            Air quality is satisfactory, and air pollution poses\n",
    "                                                                      little or no risk.\n",
    "\n",
    "    Yellow              Moderate                   51 to 100          Air quality is acceptable. However, there may be a\n",
    "                                                                      risk for some people, particularly those who are\n",
    "                                                                      unusually sensitive to air pollution.\n",
    "\n",
    "    Orange              Unhealthy for sensitive    101 to 150         Members of sensitive groups may experience health\n",
    "                                                                      effects. The general public is less likely to be\n",
    "                                                                      affected.\n",
    "\n",
    "    Red                 Unhealthy                  151 to 200         Some members of the general public may experience\n",
    "                                                                      health effects; members of sensitive groups may\n",
    "                                                                      experience more serious health effects.\n",
    "\n",
    "    Purple              Very unhealthy             201 to 300         Health alert: The risk of health effects is increased\n",
    "                                                                      for everyone.\n",
    "\n",
    "    Maroon              Hazardous                  301+               Health warning of emergency conditions: everyone\n",
    "                                                                      is more likely to be affected.\n",
    "        "
   ]
  },
  {
   "cell_type": "code",
   "execution_count": 3,
   "id": "c2e4f7d8",
   "metadata": {},
   "outputs": [
    {
     "data": {
      "text/plain": [
       "Index(['Id', 'Mounths', 'PM10 in æg/m3', 'SO2 in æg/m3', 'NOx  in æg/m3',\n",
       "       ' PM2.5  in æg/m3', 'Ammonia - NH3  in æg/m3', 'O3   in æg/m3',\n",
       "       'CO  in mg/m3', ' Benzene  in æg/m3', 'AQI'],\n",
       "      dtype='object')"
      ]
     },
     "execution_count": 3,
     "metadata": {},
     "output_type": "execute_result"
    }
   ],
   "source": [
    "air_quality = pd.read_csv('data/aqi_data.csv')\n",
    "air_quality.columns"
   ]
  },
  {
   "cell_type": "code",
   "execution_count": 4,
   "id": "f0b4b908",
   "metadata": {},
   "outputs": [
    {
     "data": {
      "text/html": [
       "<div>\n",
       "<style scoped>\n",
       "    .dataframe tbody tr th:only-of-type {\n",
       "        vertical-align: middle;\n",
       "    }\n",
       "\n",
       "    .dataframe tbody tr th {\n",
       "        vertical-align: top;\n",
       "    }\n",
       "\n",
       "    .dataframe thead th {\n",
       "        text-align: right;\n",
       "    }\n",
       "</style>\n",
       "<table border=\"1\" class=\"dataframe\">\n",
       "  <thead>\n",
       "    <tr style=\"text-align: right;\">\n",
       "      <th></th>\n",
       "      <th>id</th>\n",
       "      <th>month</th>\n",
       "      <th>PM10</th>\n",
       "      <th>SO2</th>\n",
       "      <th>NOx</th>\n",
       "      <th>PM25</th>\n",
       "      <th>NH3</th>\n",
       "      <th>O3</th>\n",
       "      <th>CO</th>\n",
       "      <th>benzene</th>\n",
       "      <th>AQI</th>\n",
       "    </tr>\n",
       "  </thead>\n",
       "  <tbody>\n",
       "    <tr>\n",
       "      <th>0</th>\n",
       "      <td>1</td>\n",
       "      <td>Jan-17</td>\n",
       "      <td>174.0</td>\n",
       "      <td>26.4</td>\n",
       "      <td>35.0</td>\n",
       "      <td>79</td>\n",
       "      <td>25.0</td>\n",
       "      <td>107.6</td>\n",
       "      <td>0.90</td>\n",
       "      <td>0.70</td>\n",
       "      <td>149.0</td>\n",
       "    </tr>\n",
       "    <tr>\n",
       "      <th>1</th>\n",
       "      <td>2</td>\n",
       "      <td>Feb-17</td>\n",
       "      <td>143.0</td>\n",
       "      <td>35.1</td>\n",
       "      <td>40.3</td>\n",
       "      <td>75</td>\n",
       "      <td>31.0</td>\n",
       "      <td>103.0</td>\n",
       "      <td>0.90</td>\n",
       "      <td>0.90</td>\n",
       "      <td>129.0</td>\n",
       "    </tr>\n",
       "    <tr>\n",
       "      <th>2</th>\n",
       "      <td>3</td>\n",
       "      <td>Mar-17</td>\n",
       "      <td>142.0</td>\n",
       "      <td>32.1</td>\n",
       "      <td>30.9</td>\n",
       "      <td>59</td>\n",
       "      <td>26.0</td>\n",
       "      <td>80.7</td>\n",
       "      <td>0.80</td>\n",
       "      <td>0.50</td>\n",
       "      <td>128.0</td>\n",
       "    </tr>\n",
       "    <tr>\n",
       "      <th>3</th>\n",
       "      <td>4</td>\n",
       "      <td>Apr-17</td>\n",
       "      <td>117.0</td>\n",
       "      <td>50.9</td>\n",
       "      <td>36.3</td>\n",
       "      <td>75</td>\n",
       "      <td>36.0</td>\n",
       "      <td>79.5</td>\n",
       "      <td>0.90</td>\n",
       "      <td>0.70</td>\n",
       "      <td>111.0</td>\n",
       "    </tr>\n",
       "    <tr>\n",
       "      <th>4</th>\n",
       "      <td>5</td>\n",
       "      <td>May-17</td>\n",
       "      <td>NaN</td>\n",
       "      <td>41.6</td>\n",
       "      <td>25.2</td>\n",
       "      <td>53</td>\n",
       "      <td>28.0</td>\n",
       "      <td>70.0</td>\n",
       "      <td>0.50</td>\n",
       "      <td>0.50</td>\n",
       "      <td>NaN</td>\n",
       "    </tr>\n",
       "    <tr>\n",
       "      <th>...</th>\n",
       "      <td>...</td>\n",
       "      <td>...</td>\n",
       "      <td>...</td>\n",
       "      <td>...</td>\n",
       "      <td>...</td>\n",
       "      <td>...</td>\n",
       "      <td>...</td>\n",
       "      <td>...</td>\n",
       "      <td>...</td>\n",
       "      <td>...</td>\n",
       "      <td>...</td>\n",
       "    </tr>\n",
       "    <tr>\n",
       "      <th>67</th>\n",
       "      <td>68</td>\n",
       "      <td>Aug-22</td>\n",
       "      <td>89.0</td>\n",
       "      <td>12.0</td>\n",
       "      <td>35.0</td>\n",
       "      <td>22</td>\n",
       "      <td>26.0</td>\n",
       "      <td>15.2</td>\n",
       "      <td>0.64</td>\n",
       "      <td>0.09</td>\n",
       "      <td>67.0</td>\n",
       "    </tr>\n",
       "    <tr>\n",
       "      <th>68</th>\n",
       "      <td>69</td>\n",
       "      <td>Sep-22</td>\n",
       "      <td>92.0</td>\n",
       "      <td>13.0</td>\n",
       "      <td>37.3</td>\n",
       "      <td>30</td>\n",
       "      <td>31.0</td>\n",
       "      <td>10.0</td>\n",
       "      <td>0.70</td>\n",
       "      <td>0.06</td>\n",
       "      <td>76.0</td>\n",
       "    </tr>\n",
       "    <tr>\n",
       "      <th>69</th>\n",
       "      <td>70</td>\n",
       "      <td>Oct-22</td>\n",
       "      <td>93.0</td>\n",
       "      <td>12.0</td>\n",
       "      <td>30.7</td>\n",
       "      <td>46</td>\n",
       "      <td>28.0</td>\n",
       "      <td>9.7</td>\n",
       "      <td>0.67</td>\n",
       "      <td>0.07</td>\n",
       "      <td>101.0</td>\n",
       "    </tr>\n",
       "    <tr>\n",
       "      <th>70</th>\n",
       "      <td>71</td>\n",
       "      <td>Nov-22</td>\n",
       "      <td>87.0</td>\n",
       "      <td>10.4</td>\n",
       "      <td>28.2</td>\n",
       "      <td>78</td>\n",
       "      <td>30.0</td>\n",
       "      <td>12.1</td>\n",
       "      <td>1.52</td>\n",
       "      <td>0.03</td>\n",
       "      <td>166.0</td>\n",
       "    </tr>\n",
       "    <tr>\n",
       "      <th>71</th>\n",
       "      <td>72</td>\n",
       "      <td>Dec-22</td>\n",
       "      <td>88.0</td>\n",
       "      <td>13.0</td>\n",
       "      <td>34.5</td>\n",
       "      <td>72</td>\n",
       "      <td>15.0</td>\n",
       "      <td>16.5</td>\n",
       "      <td>1.39</td>\n",
       "      <td>0.04</td>\n",
       "      <td>162.0</td>\n",
       "    </tr>\n",
       "  </tbody>\n",
       "</table>\n",
       "<p>72 rows × 11 columns</p>\n",
       "</div>"
      ],
      "text/plain": [
       "    id   month   PM10   SO2   NOx  PM25   NH3     O3    CO  benzene    AQI\n",
       "0    1  Jan-17  174.0  26.4  35.0    79  25.0  107.6  0.90     0.70  149.0\n",
       "1    2  Feb-17  143.0  35.1  40.3    75  31.0  103.0  0.90     0.90  129.0\n",
       "2    3  Mar-17  142.0  32.1  30.9    59  26.0   80.7  0.80     0.50  128.0\n",
       "3    4  Apr-17  117.0  50.9  36.3    75  36.0   79.5  0.90     0.70  111.0\n",
       "4    5  May-17    NaN  41.6  25.2    53  28.0   70.0  0.50     0.50    NaN\n",
       "..  ..     ...    ...   ...   ...   ...   ...    ...   ...      ...    ...\n",
       "67  68  Aug-22   89.0  12.0  35.0    22  26.0   15.2  0.64     0.09   67.0\n",
       "68  69  Sep-22   92.0  13.0  37.3    30  31.0   10.0  0.70     0.06   76.0\n",
       "69  70  Oct-22   93.0  12.0  30.7    46  28.0    9.7  0.67     0.07  101.0\n",
       "70  71  Nov-22   87.0  10.4  28.2    78  30.0   12.1  1.52     0.03  166.0\n",
       "71  72  Dec-22   88.0  13.0  34.5    72  15.0   16.5  1.39     0.04  162.0\n",
       "\n",
       "[72 rows x 11 columns]"
      ]
     },
     "execution_count": 4,
     "metadata": {},
     "output_type": "execute_result"
    }
   ],
   "source": [
    "# renaming columns\n",
    "air_quality.columns = ['id', 'month', 'PM10', 'SO2', 'NOx', 'PM25', 'NH3', 'O3', 'CO', 'benzene', 'AQI']\n",
    "air_quality"
   ]
  },
  {
   "cell_type": "code",
   "execution_count": 5,
   "id": "9e318003",
   "metadata": {},
   "outputs": [
    {
     "name": "stdout",
     "output_type": "stream",
     "text": [
      "<class 'pandas.core.frame.DataFrame'>\n",
      "RangeIndex: 72 entries, 0 to 71\n",
      "Data columns (total 11 columns):\n",
      " #   Column   Non-Null Count  Dtype  \n",
      "---  ------   --------------  -----  \n",
      " 0   id       72 non-null     int64  \n",
      " 1   month    72 non-null     object \n",
      " 2   PM10     66 non-null     float64\n",
      " 3   SO2      71 non-null     float64\n",
      " 4   NOx      70 non-null     float64\n",
      " 5   PM25     72 non-null     int64  \n",
      " 6   NH3      72 non-null     float64\n",
      " 7   O3       72 non-null     float64\n",
      " 8   CO       72 non-null     float64\n",
      " 9   benzene  72 non-null     float64\n",
      " 10  AQI      67 non-null     float64\n",
      "dtypes: float64(8), int64(2), object(1)\n",
      "memory usage: 6.3+ KB\n"
     ]
    }
   ],
   "source": [
    "# checking data types\n",
    "air_quality.info()"
   ]
  },
  {
   "cell_type": "code",
   "execution_count": 6,
   "id": "0394fea6",
   "metadata": {},
   "outputs": [
    {
     "data": {
      "text/html": [
       "<div>\n",
       "<style scoped>\n",
       "    .dataframe tbody tr th:only-of-type {\n",
       "        vertical-align: middle;\n",
       "    }\n",
       "\n",
       "    .dataframe tbody tr th {\n",
       "        vertical-align: top;\n",
       "    }\n",
       "\n",
       "    .dataframe thead th {\n",
       "        text-align: right;\n",
       "    }\n",
       "</style>\n",
       "<table border=\"1\" class=\"dataframe\">\n",
       "  <thead>\n",
       "    <tr style=\"text-align: right;\">\n",
       "      <th></th>\n",
       "      <th>id</th>\n",
       "      <th>month</th>\n",
       "      <th>PM10</th>\n",
       "      <th>SO2</th>\n",
       "      <th>NOx</th>\n",
       "      <th>PM25</th>\n",
       "      <th>NH3</th>\n",
       "      <th>O3</th>\n",
       "      <th>CO</th>\n",
       "      <th>benzene</th>\n",
       "      <th>AQI</th>\n",
       "    </tr>\n",
       "  </thead>\n",
       "  <tbody>\n",
       "    <tr>\n",
       "      <th>0</th>\n",
       "      <td>1</td>\n",
       "      <td>Jan-17</td>\n",
       "      <td>174.0</td>\n",
       "      <td>26.4</td>\n",
       "      <td>35.0</td>\n",
       "      <td>79</td>\n",
       "      <td>25.0</td>\n",
       "      <td>107.6</td>\n",
       "      <td>0.9</td>\n",
       "      <td>0.7</td>\n",
       "      <td>149.0</td>\n",
       "    </tr>\n",
       "    <tr>\n",
       "      <th>1</th>\n",
       "      <td>2</td>\n",
       "      <td>Feb-17</td>\n",
       "      <td>143.0</td>\n",
       "      <td>35.1</td>\n",
       "      <td>40.3</td>\n",
       "      <td>75</td>\n",
       "      <td>31.0</td>\n",
       "      <td>103.0</td>\n",
       "      <td>0.9</td>\n",
       "      <td>0.9</td>\n",
       "      <td>129.0</td>\n",
       "    </tr>\n",
       "    <tr>\n",
       "      <th>2</th>\n",
       "      <td>3</td>\n",
       "      <td>Mar-17</td>\n",
       "      <td>142.0</td>\n",
       "      <td>32.1</td>\n",
       "      <td>30.9</td>\n",
       "      <td>59</td>\n",
       "      <td>26.0</td>\n",
       "      <td>80.7</td>\n",
       "      <td>0.8</td>\n",
       "      <td>0.5</td>\n",
       "      <td>128.0</td>\n",
       "    </tr>\n",
       "    <tr>\n",
       "      <th>3</th>\n",
       "      <td>4</td>\n",
       "      <td>Apr-17</td>\n",
       "      <td>117.0</td>\n",
       "      <td>50.9</td>\n",
       "      <td>36.3</td>\n",
       "      <td>75</td>\n",
       "      <td>36.0</td>\n",
       "      <td>79.5</td>\n",
       "      <td>0.9</td>\n",
       "      <td>0.7</td>\n",
       "      <td>111.0</td>\n",
       "    </tr>\n",
       "    <tr>\n",
       "      <th>4</th>\n",
       "      <td>5</td>\n",
       "      <td>May-17</td>\n",
       "      <td>NaN</td>\n",
       "      <td>41.6</td>\n",
       "      <td>25.2</td>\n",
       "      <td>53</td>\n",
       "      <td>28.0</td>\n",
       "      <td>70.0</td>\n",
       "      <td>0.5</td>\n",
       "      <td>0.5</td>\n",
       "      <td>NaN</td>\n",
       "    </tr>\n",
       "  </tbody>\n",
       "</table>\n",
       "</div>"
      ],
      "text/plain": [
       "   id   month   PM10   SO2   NOx  PM25   NH3     O3   CO  benzene    AQI\n",
       "0   1  Jan-17  174.0  26.4  35.0    79  25.0  107.6  0.9      0.7  149.0\n",
       "1   2  Feb-17  143.0  35.1  40.3    75  31.0  103.0  0.9      0.9  129.0\n",
       "2   3  Mar-17  142.0  32.1  30.9    59  26.0   80.7  0.8      0.5  128.0\n",
       "3   4  Apr-17  117.0  50.9  36.3    75  36.0   79.5  0.9      0.7  111.0\n",
       "4   5  May-17    NaN  41.6  25.2    53  28.0   70.0  0.5      0.5    NaN"
      ]
     },
     "execution_count": 6,
     "metadata": {},
     "output_type": "execute_result"
    }
   ],
   "source": [
    "air_quality.head()"
   ]
  },
  {
   "cell_type": "code",
   "execution_count": 7,
   "id": "619ace79",
   "metadata": {},
   "outputs": [],
   "source": [
    "# selecting only non-null aqi values\n",
    "aqi = air_quality.loc[air_quality.AQI.notnull()]"
   ]
  },
  {
   "cell_type": "code",
   "execution_count": 8,
   "id": "5abba721",
   "metadata": {},
   "outputs": [],
   "source": [
    "#dropping id column\n",
    "aqi = aqi.drop(columns='id')"
   ]
  },
  {
   "cell_type": "code",
   "execution_count": 9,
   "id": "252d1ef8",
   "metadata": {},
   "outputs": [],
   "source": [
    "# creating new column with quality classification\n",
    "# with for loop\n",
    "\n",
    "for index, row in aqi.iterrows():\n",
    "    if row.AQI <50:\n",
    "        aqi.loc[index, 'level_of_concern'] = 'good'\n",
    "    elif row.AQI <100:\n",
    "        aqi.loc[index, 'level_of_concern'] = 'moderate'\n",
    "    elif row.AQI <150:\n",
    "        aqi.loc[index, 'level_of_concern'] = 'unhealthy for sensitive'\n",
    "    elif row.AQI <200:\n",
    "        aqi.loc[index, 'level_of_concern'] = 'unhealthy'\n",
    "    elif row.AQI <300:\n",
    "        aqi.loc[index, 'level_of_concern'] = 'very unhealthy'\n",
    "    elif row.AQI >301:\n",
    "        aqi.loc[index, 'level_of_concern'] = 'hazardous'\n",
    "    else: # for any null values / mistakes\n",
    "        aqi.loc[index, 'level_of_concern'] = '-1'"
   ]
  },
  {
   "cell_type": "code",
   "execution_count": 10,
   "id": "edd3752a",
   "metadata": {},
   "outputs": [
    {
     "data": {
      "text/html": [
       "<div>\n",
       "<style scoped>\n",
       "    .dataframe tbody tr th:only-of-type {\n",
       "        vertical-align: middle;\n",
       "    }\n",
       "\n",
       "    .dataframe tbody tr th {\n",
       "        vertical-align: top;\n",
       "    }\n",
       "\n",
       "    .dataframe thead th {\n",
       "        text-align: right;\n",
       "    }\n",
       "</style>\n",
       "<table border=\"1\" class=\"dataframe\">\n",
       "  <thead>\n",
       "    <tr style=\"text-align: right;\">\n",
       "      <th></th>\n",
       "      <th>level_of_concern</th>\n",
       "      <th>months_count</th>\n",
       "    </tr>\n",
       "  </thead>\n",
       "  <tbody>\n",
       "    <tr>\n",
       "      <th>0</th>\n",
       "      <td>unhealthy for sensitive</td>\n",
       "      <td>37</td>\n",
       "    </tr>\n",
       "    <tr>\n",
       "      <th>1</th>\n",
       "      <td>moderate</td>\n",
       "      <td>27</td>\n",
       "    </tr>\n",
       "    <tr>\n",
       "      <th>2</th>\n",
       "      <td>unhealthy</td>\n",
       "      <td>3</td>\n",
       "    </tr>\n",
       "  </tbody>\n",
       "</table>\n",
       "</div>"
      ],
      "text/plain": [
       "          level_of_concern  months_count\n",
       "0  unhealthy for sensitive            37\n",
       "1                 moderate            27\n",
       "2                unhealthy             3"
      ]
     },
     "execution_count": 10,
     "metadata": {},
     "output_type": "execute_result"
    }
   ],
   "source": [
    "# value counts for level of concern by number of months\n",
    "\n",
    "months_count = aqi.level_of_concern.value_counts().reset_index().rename(columns = {'index':'level_of_concern', 'level_of_concern':'months_count'})\n",
    "months_count"
   ]
  },
  {
   "cell_type": "code",
   "execution_count": 11,
   "id": "b3328f70",
   "metadata": {},
   "outputs": [
    {
     "data": {
      "text/html": [
       "<div>\n",
       "<style scoped>\n",
       "    .dataframe tbody tr th:only-of-type {\n",
       "        vertical-align: middle;\n",
       "    }\n",
       "\n",
       "    .dataframe tbody tr th {\n",
       "        vertical-align: top;\n",
       "    }\n",
       "\n",
       "    .dataframe thead th {\n",
       "        text-align: right;\n",
       "    }\n",
       "</style>\n",
       "<table border=\"1\" class=\"dataframe\">\n",
       "  <thead>\n",
       "    <tr style=\"text-align: right;\">\n",
       "      <th></th>\n",
       "      <th>month</th>\n",
       "      <th>PM10</th>\n",
       "      <th>SO2</th>\n",
       "      <th>NOx</th>\n",
       "      <th>PM25</th>\n",
       "      <th>NH3</th>\n",
       "      <th>O3</th>\n",
       "      <th>CO</th>\n",
       "      <th>benzene</th>\n",
       "      <th>AQI</th>\n",
       "      <th>level_of_concern</th>\n",
       "      <th>year</th>\n",
       "    </tr>\n",
       "  </thead>\n",
       "  <tbody>\n",
       "    <tr>\n",
       "      <th>0</th>\n",
       "      <td>Jan-17</td>\n",
       "      <td>174.0</td>\n",
       "      <td>26.4</td>\n",
       "      <td>35.0</td>\n",
       "      <td>79</td>\n",
       "      <td>25.0</td>\n",
       "      <td>107.6</td>\n",
       "      <td>0.90</td>\n",
       "      <td>0.70</td>\n",
       "      <td>149.0</td>\n",
       "      <td>unhealthy for sensitive</td>\n",
       "      <td>2017</td>\n",
       "    </tr>\n",
       "    <tr>\n",
       "      <th>1</th>\n",
       "      <td>Feb-17</td>\n",
       "      <td>143.0</td>\n",
       "      <td>35.1</td>\n",
       "      <td>40.3</td>\n",
       "      <td>75</td>\n",
       "      <td>31.0</td>\n",
       "      <td>103.0</td>\n",
       "      <td>0.90</td>\n",
       "      <td>0.90</td>\n",
       "      <td>129.0</td>\n",
       "      <td>unhealthy for sensitive</td>\n",
       "      <td>2017</td>\n",
       "    </tr>\n",
       "    <tr>\n",
       "      <th>2</th>\n",
       "      <td>Mar-17</td>\n",
       "      <td>142.0</td>\n",
       "      <td>32.1</td>\n",
       "      <td>30.9</td>\n",
       "      <td>59</td>\n",
       "      <td>26.0</td>\n",
       "      <td>80.7</td>\n",
       "      <td>0.80</td>\n",
       "      <td>0.50</td>\n",
       "      <td>128.0</td>\n",
       "      <td>unhealthy for sensitive</td>\n",
       "      <td>2017</td>\n",
       "    </tr>\n",
       "    <tr>\n",
       "      <th>3</th>\n",
       "      <td>Apr-17</td>\n",
       "      <td>117.0</td>\n",
       "      <td>50.9</td>\n",
       "      <td>36.3</td>\n",
       "      <td>75</td>\n",
       "      <td>36.0</td>\n",
       "      <td>79.5</td>\n",
       "      <td>0.90</td>\n",
       "      <td>0.70</td>\n",
       "      <td>111.0</td>\n",
       "      <td>unhealthy for sensitive</td>\n",
       "      <td>2017</td>\n",
       "    </tr>\n",
       "    <tr>\n",
       "      <th>6</th>\n",
       "      <td>Jul-17</td>\n",
       "      <td>111.0</td>\n",
       "      <td>38.9</td>\n",
       "      <td>21.5</td>\n",
       "      <td>29</td>\n",
       "      <td>30.0</td>\n",
       "      <td>24.4</td>\n",
       "      <td>0.30</td>\n",
       "      <td>0.70</td>\n",
       "      <td>106.7</td>\n",
       "      <td>unhealthy for sensitive</td>\n",
       "      <td>2017</td>\n",
       "    </tr>\n",
       "    <tr>\n",
       "      <th>...</th>\n",
       "      <td>...</td>\n",
       "      <td>...</td>\n",
       "      <td>...</td>\n",
       "      <td>...</td>\n",
       "      <td>...</td>\n",
       "      <td>...</td>\n",
       "      <td>...</td>\n",
       "      <td>...</td>\n",
       "      <td>...</td>\n",
       "      <td>...</td>\n",
       "      <td>...</td>\n",
       "      <td>...</td>\n",
       "    </tr>\n",
       "    <tr>\n",
       "      <th>67</th>\n",
       "      <td>Aug-22</td>\n",
       "      <td>89.0</td>\n",
       "      <td>12.0</td>\n",
       "      <td>35.0</td>\n",
       "      <td>22</td>\n",
       "      <td>26.0</td>\n",
       "      <td>15.2</td>\n",
       "      <td>0.64</td>\n",
       "      <td>0.09</td>\n",
       "      <td>67.0</td>\n",
       "      <td>moderate</td>\n",
       "      <td>2022</td>\n",
       "    </tr>\n",
       "    <tr>\n",
       "      <th>68</th>\n",
       "      <td>Sep-22</td>\n",
       "      <td>92.0</td>\n",
       "      <td>13.0</td>\n",
       "      <td>37.3</td>\n",
       "      <td>30</td>\n",
       "      <td>31.0</td>\n",
       "      <td>10.0</td>\n",
       "      <td>0.70</td>\n",
       "      <td>0.06</td>\n",
       "      <td>76.0</td>\n",
       "      <td>moderate</td>\n",
       "      <td>2022</td>\n",
       "    </tr>\n",
       "    <tr>\n",
       "      <th>69</th>\n",
       "      <td>Oct-22</td>\n",
       "      <td>93.0</td>\n",
       "      <td>12.0</td>\n",
       "      <td>30.7</td>\n",
       "      <td>46</td>\n",
       "      <td>28.0</td>\n",
       "      <td>9.7</td>\n",
       "      <td>0.67</td>\n",
       "      <td>0.07</td>\n",
       "      <td>101.0</td>\n",
       "      <td>unhealthy for sensitive</td>\n",
       "      <td>2022</td>\n",
       "    </tr>\n",
       "    <tr>\n",
       "      <th>70</th>\n",
       "      <td>Nov-22</td>\n",
       "      <td>87.0</td>\n",
       "      <td>10.4</td>\n",
       "      <td>28.2</td>\n",
       "      <td>78</td>\n",
       "      <td>30.0</td>\n",
       "      <td>12.1</td>\n",
       "      <td>1.52</td>\n",
       "      <td>0.03</td>\n",
       "      <td>166.0</td>\n",
       "      <td>unhealthy</td>\n",
       "      <td>2022</td>\n",
       "    </tr>\n",
       "    <tr>\n",
       "      <th>71</th>\n",
       "      <td>Dec-22</td>\n",
       "      <td>88.0</td>\n",
       "      <td>13.0</td>\n",
       "      <td>34.5</td>\n",
       "      <td>72</td>\n",
       "      <td>15.0</td>\n",
       "      <td>16.5</td>\n",
       "      <td>1.39</td>\n",
       "      <td>0.04</td>\n",
       "      <td>162.0</td>\n",
       "      <td>unhealthy</td>\n",
       "      <td>2022</td>\n",
       "    </tr>\n",
       "  </tbody>\n",
       "</table>\n",
       "<p>67 rows × 12 columns</p>\n",
       "</div>"
      ],
      "text/plain": [
       "     month   PM10   SO2   NOx  PM25   NH3     O3    CO  benzene    AQI  \\\n",
       "0   Jan-17  174.0  26.4  35.0    79  25.0  107.6  0.90     0.70  149.0   \n",
       "1   Feb-17  143.0  35.1  40.3    75  31.0  103.0  0.90     0.90  129.0   \n",
       "2   Mar-17  142.0  32.1  30.9    59  26.0   80.7  0.80     0.50  128.0   \n",
       "3   Apr-17  117.0  50.9  36.3    75  36.0   79.5  0.90     0.70  111.0   \n",
       "6   Jul-17  111.0  38.9  21.5    29  30.0   24.4  0.30     0.70  106.7   \n",
       "..     ...    ...   ...   ...   ...   ...    ...   ...      ...    ...   \n",
       "67  Aug-22   89.0  12.0  35.0    22  26.0   15.2  0.64     0.09   67.0   \n",
       "68  Sep-22   92.0  13.0  37.3    30  31.0   10.0  0.70     0.06   76.0   \n",
       "69  Oct-22   93.0  12.0  30.7    46  28.0    9.7  0.67     0.07  101.0   \n",
       "70  Nov-22   87.0  10.4  28.2    78  30.0   12.1  1.52     0.03  166.0   \n",
       "71  Dec-22   88.0  13.0  34.5    72  15.0   16.5  1.39     0.04  162.0   \n",
       "\n",
       "           level_of_concern  year  \n",
       "0   unhealthy for sensitive  2017  \n",
       "1   unhealthy for sensitive  2017  \n",
       "2   unhealthy for sensitive  2017  \n",
       "3   unhealthy for sensitive  2017  \n",
       "6   unhealthy for sensitive  2017  \n",
       "..                      ...   ...  \n",
       "67                 moderate  2022  \n",
       "68                 moderate  2022  \n",
       "69  unhealthy for sensitive  2022  \n",
       "70                unhealthy  2022  \n",
       "71                unhealthy  2022  \n",
       "\n",
       "[67 rows x 12 columns]"
      ]
     },
     "execution_count": 11,
     "metadata": {},
     "output_type": "execute_result"
    }
   ],
   "source": [
    "# creating new year column\n",
    "aqi[\"year\"] = '20'\n",
    "aqi.year = aqi.year+aqi.month.str.slice(-2) # this will still be an object dtype\n",
    "aqi"
   ]
  },
  {
   "cell_type": "code",
   "execution_count": 12,
   "id": "29401c46",
   "metadata": {
    "scrolled": true
   },
   "outputs": [],
   "source": [
    "# simplifying month column\n",
    "aqi.month = aqi.month.str[0:3]"
   ]
  },
  {
   "cell_type": "code",
   "execution_count": 13,
   "id": "066d26e3",
   "metadata": {},
   "outputs": [],
   "source": [
    "# rearranging columns\n",
    "aqi = aqi[['month', 'year', 'PM10', 'SO2', 'NOx', 'PM25', 'NH3', 'O3', 'CO', 'benzene', 'AQI', 'level_of_concern']]"
   ]
  },
  {
   "cell_type": "code",
   "execution_count": 14,
   "id": "b7dae3c9",
   "metadata": {},
   "outputs": [],
   "source": [
    "# creating new df for high concern\n",
    "unhealthy = aqi.loc[aqi.AQI > 100]"
   ]
  },
  {
   "cell_type": "code",
   "execution_count": 15,
   "id": "5aa7d651",
   "metadata": {},
   "outputs": [
    {
     "data": {
      "text/plain": [
       "Jan    6\n",
       "Mar    6\n",
       "Feb    5\n",
       "Apr    4\n",
       "May    4\n",
       "Dec    4\n",
       "Oct    3\n",
       "Nov    3\n",
       "Jul    2\n",
       "Jun    2\n",
       "Aug    1\n",
       "Name: month, dtype: int64"
      ]
     },
     "execution_count": 15,
     "metadata": {},
     "output_type": "execute_result"
    }
   ],
   "source": [
    "# any months that seem to be higher?\n",
    "# grouping by month\n",
    "unhealthy.month.value_counts()"
   ]
  },
  {
   "cell_type": "code",
   "execution_count": 16,
   "id": "187b7260",
   "metadata": {
    "scrolled": true
   },
   "outputs": [
    {
     "data": {
      "text/plain": [
       "2020    9\n",
       "2018    8\n",
       "2022    8\n",
       "2017    6\n",
       "2019    6\n",
       "2021    3\n",
       "Name: year, dtype: int64"
      ]
     },
     "execution_count": 16,
     "metadata": {},
     "output_type": "execute_result"
    }
   ],
   "source": [
    "# grouping by months in a year\n",
    "unhealthy.year.value_counts()"
   ]
  },
  {
   "cell_type": "markdown",
   "id": "ae35316d",
   "metadata": {},
   "source": [
    "Interesting that 2020 claims the highest amount of months that were considered an unhealthy level of concern... I would have estiamated it to be less with travel ceasing for many people. Perhaps COVID-19 affected a packed city like Hyderabad differently than many other cities in the world. Or, perhaps there are other greater contributing factors to decreased air quality than travel - factories? weather? fires?"
   ]
  },
  {
   "cell_type": "code",
   "execution_count": 17,
   "id": "0db1633a",
   "metadata": {},
   "outputs": [
    {
     "data": {
      "text/html": [
       "<div>\n",
       "<style scoped>\n",
       "    .dataframe tbody tr th:only-of-type {\n",
       "        vertical-align: middle;\n",
       "    }\n",
       "\n",
       "    .dataframe tbody tr th {\n",
       "        vertical-align: top;\n",
       "    }\n",
       "\n",
       "    .dataframe thead th {\n",
       "        text-align: right;\n",
       "    }\n",
       "</style>\n",
       "<table border=\"1\" class=\"dataframe\">\n",
       "  <thead>\n",
       "    <tr style=\"text-align: right;\">\n",
       "      <th></th>\n",
       "      <th>month</th>\n",
       "      <th>year</th>\n",
       "      <th>PM10</th>\n",
       "      <th>SO2</th>\n",
       "      <th>NOx</th>\n",
       "      <th>PM25</th>\n",
       "      <th>NH3</th>\n",
       "      <th>O3</th>\n",
       "      <th>CO</th>\n",
       "      <th>benzene</th>\n",
       "      <th>AQI</th>\n",
       "      <th>level_of_concern</th>\n",
       "    </tr>\n",
       "  </thead>\n",
       "  <tbody>\n",
       "    <tr>\n",
       "      <th>0</th>\n",
       "      <td>Jan</td>\n",
       "      <td>2017</td>\n",
       "      <td>174.0</td>\n",
       "      <td>26.4</td>\n",
       "      <td>35.0</td>\n",
       "      <td>79</td>\n",
       "      <td>25.0</td>\n",
       "      <td>107.6</td>\n",
       "      <td>0.90</td>\n",
       "      <td>0.70</td>\n",
       "      <td>149.0</td>\n",
       "      <td>unhealthy for sensitive</td>\n",
       "    </tr>\n",
       "    <tr>\n",
       "      <th>1</th>\n",
       "      <td>Feb</td>\n",
       "      <td>2017</td>\n",
       "      <td>143.0</td>\n",
       "      <td>35.1</td>\n",
       "      <td>40.3</td>\n",
       "      <td>75</td>\n",
       "      <td>31.0</td>\n",
       "      <td>103.0</td>\n",
       "      <td>0.90</td>\n",
       "      <td>0.90</td>\n",
       "      <td>129.0</td>\n",
       "      <td>unhealthy for sensitive</td>\n",
       "    </tr>\n",
       "    <tr>\n",
       "      <th>2</th>\n",
       "      <td>Mar</td>\n",
       "      <td>2017</td>\n",
       "      <td>142.0</td>\n",
       "      <td>32.1</td>\n",
       "      <td>30.9</td>\n",
       "      <td>59</td>\n",
       "      <td>26.0</td>\n",
       "      <td>80.7</td>\n",
       "      <td>0.80</td>\n",
       "      <td>0.50</td>\n",
       "      <td>128.0</td>\n",
       "      <td>unhealthy for sensitive</td>\n",
       "    </tr>\n",
       "    <tr>\n",
       "      <th>3</th>\n",
       "      <td>Apr</td>\n",
       "      <td>2017</td>\n",
       "      <td>117.0</td>\n",
       "      <td>50.9</td>\n",
       "      <td>36.3</td>\n",
       "      <td>75</td>\n",
       "      <td>36.0</td>\n",
       "      <td>79.5</td>\n",
       "      <td>0.90</td>\n",
       "      <td>0.70</td>\n",
       "      <td>111.0</td>\n",
       "      <td>unhealthy for sensitive</td>\n",
       "    </tr>\n",
       "    <tr>\n",
       "      <th>6</th>\n",
       "      <td>Jul</td>\n",
       "      <td>2017</td>\n",
       "      <td>111.0</td>\n",
       "      <td>38.9</td>\n",
       "      <td>21.5</td>\n",
       "      <td>29</td>\n",
       "      <td>30.0</td>\n",
       "      <td>24.4</td>\n",
       "      <td>0.30</td>\n",
       "      <td>0.70</td>\n",
       "      <td>106.7</td>\n",
       "      <td>unhealthy for sensitive</td>\n",
       "    </tr>\n",
       "    <tr>\n",
       "      <th>...</th>\n",
       "      <td>...</td>\n",
       "      <td>...</td>\n",
       "      <td>...</td>\n",
       "      <td>...</td>\n",
       "      <td>...</td>\n",
       "      <td>...</td>\n",
       "      <td>...</td>\n",
       "      <td>...</td>\n",
       "      <td>...</td>\n",
       "      <td>...</td>\n",
       "      <td>...</td>\n",
       "      <td>...</td>\n",
       "    </tr>\n",
       "    <tr>\n",
       "      <th>67</th>\n",
       "      <td>Aug</td>\n",
       "      <td>2022</td>\n",
       "      <td>89.0</td>\n",
       "      <td>12.0</td>\n",
       "      <td>35.0</td>\n",
       "      <td>22</td>\n",
       "      <td>26.0</td>\n",
       "      <td>15.2</td>\n",
       "      <td>0.64</td>\n",
       "      <td>0.09</td>\n",
       "      <td>67.0</td>\n",
       "      <td>moderate</td>\n",
       "    </tr>\n",
       "    <tr>\n",
       "      <th>68</th>\n",
       "      <td>Sep</td>\n",
       "      <td>2022</td>\n",
       "      <td>92.0</td>\n",
       "      <td>13.0</td>\n",
       "      <td>37.3</td>\n",
       "      <td>30</td>\n",
       "      <td>31.0</td>\n",
       "      <td>10.0</td>\n",
       "      <td>0.70</td>\n",
       "      <td>0.06</td>\n",
       "      <td>76.0</td>\n",
       "      <td>moderate</td>\n",
       "    </tr>\n",
       "    <tr>\n",
       "      <th>69</th>\n",
       "      <td>Oct</td>\n",
       "      <td>2022</td>\n",
       "      <td>93.0</td>\n",
       "      <td>12.0</td>\n",
       "      <td>30.7</td>\n",
       "      <td>46</td>\n",
       "      <td>28.0</td>\n",
       "      <td>9.7</td>\n",
       "      <td>0.67</td>\n",
       "      <td>0.07</td>\n",
       "      <td>101.0</td>\n",
       "      <td>unhealthy for sensitive</td>\n",
       "    </tr>\n",
       "    <tr>\n",
       "      <th>70</th>\n",
       "      <td>Nov</td>\n",
       "      <td>2022</td>\n",
       "      <td>87.0</td>\n",
       "      <td>10.4</td>\n",
       "      <td>28.2</td>\n",
       "      <td>78</td>\n",
       "      <td>30.0</td>\n",
       "      <td>12.1</td>\n",
       "      <td>1.52</td>\n",
       "      <td>0.03</td>\n",
       "      <td>166.0</td>\n",
       "      <td>unhealthy</td>\n",
       "    </tr>\n",
       "    <tr>\n",
       "      <th>71</th>\n",
       "      <td>Dec</td>\n",
       "      <td>2022</td>\n",
       "      <td>88.0</td>\n",
       "      <td>13.0</td>\n",
       "      <td>34.5</td>\n",
       "      <td>72</td>\n",
       "      <td>15.0</td>\n",
       "      <td>16.5</td>\n",
       "      <td>1.39</td>\n",
       "      <td>0.04</td>\n",
       "      <td>162.0</td>\n",
       "      <td>unhealthy</td>\n",
       "    </tr>\n",
       "  </tbody>\n",
       "</table>\n",
       "<p>67 rows × 12 columns</p>\n",
       "</div>"
      ],
      "text/plain": [
       "   month  year   PM10   SO2   NOx  PM25   NH3     O3    CO  benzene    AQI  \\\n",
       "0    Jan  2017  174.0  26.4  35.0    79  25.0  107.6  0.90     0.70  149.0   \n",
       "1    Feb  2017  143.0  35.1  40.3    75  31.0  103.0  0.90     0.90  129.0   \n",
       "2    Mar  2017  142.0  32.1  30.9    59  26.0   80.7  0.80     0.50  128.0   \n",
       "3    Apr  2017  117.0  50.9  36.3    75  36.0   79.5  0.90     0.70  111.0   \n",
       "6    Jul  2017  111.0  38.9  21.5    29  30.0   24.4  0.30     0.70  106.7   \n",
       "..   ...   ...    ...   ...   ...   ...   ...    ...   ...      ...    ...   \n",
       "67   Aug  2022   89.0  12.0  35.0    22  26.0   15.2  0.64     0.09   67.0   \n",
       "68   Sep  2022   92.0  13.0  37.3    30  31.0   10.0  0.70     0.06   76.0   \n",
       "69   Oct  2022   93.0  12.0  30.7    46  28.0    9.7  0.67     0.07  101.0   \n",
       "70   Nov  2022   87.0  10.4  28.2    78  30.0   12.1  1.52     0.03  166.0   \n",
       "71   Dec  2022   88.0  13.0  34.5    72  15.0   16.5  1.39     0.04  162.0   \n",
       "\n",
       "           level_of_concern  \n",
       "0   unhealthy for sensitive  \n",
       "1   unhealthy for sensitive  \n",
       "2   unhealthy for sensitive  \n",
       "3   unhealthy for sensitive  \n",
       "6   unhealthy for sensitive  \n",
       "..                      ...  \n",
       "67                 moderate  \n",
       "68                 moderate  \n",
       "69  unhealthy for sensitive  \n",
       "70                unhealthy  \n",
       "71                unhealthy  \n",
       "\n",
       "[67 rows x 12 columns]"
      ]
     },
     "execution_count": 17,
     "metadata": {},
     "output_type": "execute_result"
    }
   ],
   "source": [
    "aqi"
   ]
  },
  {
   "cell_type": "markdown",
   "id": "1690fdc3",
   "metadata": {},
   "source": [
    "Are there any particular pollutants that seem to influence overall AQI more than others?"
   ]
  },
  {
   "cell_type": "code",
   "execution_count": 18,
   "id": "004c8e1e",
   "metadata": {},
   "outputs": [
    {
     "data": {
      "text/plain": [
       "178.0"
      ]
     },
     "execution_count": 18,
     "metadata": {},
     "output_type": "execute_result"
    }
   ],
   "source": [
    "aqi.PM10.max()"
   ]
  },
  {
   "cell_type": "code",
   "execution_count": 19,
   "id": "c5033c61",
   "metadata": {},
   "outputs": [
    {
     "data": {
      "text/plain": [
       "76.0"
      ]
     },
     "execution_count": 19,
     "metadata": {},
     "output_type": "execute_result"
    }
   ],
   "source": [
    "aqi.PM10.min()"
   ]
  },
  {
   "cell_type": "code",
   "execution_count": 20,
   "id": "f985e592",
   "metadata": {},
   "outputs": [
    {
     "data": {
      "text/plain": [
       "166.0"
      ]
     },
     "execution_count": 20,
     "metadata": {},
     "output_type": "execute_result"
    }
   ],
   "source": [
    "aqi.AQI.max()"
   ]
  },
  {
   "cell_type": "code",
   "execution_count": 21,
   "id": "e3baf3c6",
   "metadata": {},
   "outputs": [
    {
     "data": {
      "text/plain": [
       "58.0"
      ]
     },
     "execution_count": 21,
     "metadata": {},
     "output_type": "execute_result"
    }
   ],
   "source": [
    "aqi.AQI.min()"
   ]
  },
  {
   "cell_type": "code",
   "execution_count": 22,
   "id": "0f804b76",
   "metadata": {},
   "outputs": [
    {
     "data": {
      "image/png": "[encoded data removed]",
      "text/plain": [
       "<Figure size 432x288 with 1 Axes>"
      ]
     },
     "metadata": {
      "needs_background": "light"
     },
     "output_type": "display_data"
    }
   ],
   "source": [
    "# zoom in on single month through years (Jan)\n",
    "aqi.loc[aqi.month == 'Jan'].plot(x='year', y='AQI');"
   ]
  },
  {
   "cell_type": "code",
   "execution_count": 23,
   "id": "671f75d4",
   "metadata": {},
   "outputs": [
    {
     "data": {
      "image/png": "[encoded data removed]",
      "text/plain": [
       "<Figure size 432x288 with 1 Axes>"
      ]
     },
     "metadata": {
      "needs_background": "light"
     },
     "output_type": "display_data"
    }
   ],
   "source": [
    "# zoom in on Feb\n",
    "aqi.loc[aqi.month == 'Feb'].plot(x='year', y='AQI');"
   ]
  },
  {
   "cell_type": "code",
   "execution_count": 24,
   "id": "275f4f6e",
   "metadata": {},
   "outputs": [
    {
     "data": {
      "image/png": "[encoded data removed]",
      "text/plain": [
       "<Figure size 432x288 with 1 Axes>"
      ]
     },
     "metadata": {
      "needs_background": "light"
     },
     "output_type": "display_data"
    }
   ],
   "source": [
    "# zoom in on Mar\n",
    "aqi.loc[aqi.month == 'Mar'].plot(x='year', y='AQI');"
   ]
  },
  {
   "cell_type": "code",
   "execution_count": 25,
   "id": "7a76a667",
   "metadata": {},
   "outputs": [
    {
     "data": {
      "image/png": "[encoded data removed]",
      "text/plain": [
       "<Figure size 432x288 with 1 Axes>"
      ]
     },
     "metadata": {
      "needs_background": "light"
     },
     "output_type": "display_data"
    }
   ],
   "source": [
    "# zoom in on Apr\n",
    "aqi.loc[aqi.month == 'Apr'].plot(x='year', y='AQI');"
   ]
  },
  {
   "cell_type": "code",
   "execution_count": 26,
   "id": "d98f7418",
   "metadata": {},
   "outputs": [
    {
     "data": {
      "image/png": "[encoded data removed]",
      "text/plain": [
       "<Figure size 432x288 with 1 Axes>"
      ]
     },
     "metadata": {
      "needs_background": "light"
     },
     "output_type": "display_data"
    }
   ],
   "source": [
    "# zoom in on May\n",
    "aqi.loc[aqi.month == 'May'].plot(x='year', y='AQI');"
   ]
  },
  {
   "cell_type": "code",
   "execution_count": 27,
   "id": "d120b9eb",
   "metadata": {},
   "outputs": [
    {
     "data": {
      "image/png": "[encoded data removed]",
      "text/plain": [
       "<Figure size 432x288 with 1 Axes>"
      ]
     },
     "metadata": {
      "needs_background": "light"
     },
     "output_type": "display_data"
    }
   ],
   "source": [
    "# zoom in on Jun\n",
    "aqi.loc[aqi.month == 'Jun'].plot(x='year', y='AQI');"
   ]
  },
  {
   "cell_type": "code",
   "execution_count": 28,
   "id": "d382db7b",
   "metadata": {},
   "outputs": [
    {
     "data": {
      "image/png": "[encoded data removed]",
      "text/plain": [
       "<Figure size 432x288 with 1 Axes>"
      ]
     },
     "metadata": {
      "needs_background": "light"
     },
     "output_type": "display_data"
    }
   ],
   "source": [
    "# zoom in on Jul\n",
    "aqi.loc[aqi.month == 'Jul'].plot(x='year', y='AQI');"
   ]
  },
  {
   "cell_type": "code",
   "execution_count": 29,
   "id": "e19ac649",
   "metadata": {},
   "outputs": [
    {
     "data": {
      "image/png": "[encoded data removed]",
      "text/plain": [
       "<Figure size 432x288 with 1 Axes>"
      ]
     },
     "metadata": {
      "needs_background": "light"
     },
     "output_type": "display_data"
    }
   ],
   "source": [
    "# zoom in on Aug\n",
    "aqi.loc[aqi.month == 'Aug'].plot(x='year', y='AQI');"
   ]
  },
  {
   "cell_type": "code",
   "execution_count": 30,
   "id": "c8c2a44a",
   "metadata": {},
   "outputs": [
    {
     "data": {
      "image/png": "[encoded data removed]",
      "text/plain": [
       "<Figure size 432x288 with 1 Axes>"
      ]
     },
     "metadata": {
      "needs_background": "light"
     },
     "output_type": "display_data"
    }
   ],
   "source": [
    "# zoom in on Sep\n",
    "aqi.loc[aqi.month == 'Sep'].plot(x='year', y='AQI');"
   ]
  },
  {
   "cell_type": "code",
   "execution_count": 31,
   "id": "d6728e33",
   "metadata": {},
   "outputs": [
    {
     "data": {
      "image/png": "[encoded data removed]",
      "text/plain": [
       "<Figure size 432x288 with 1 Axes>"
      ]
     },
     "metadata": {
      "needs_background": "light"
     },
     "output_type": "display_data"
    }
   ],
   "source": [
    "# zoom in on Oct\n",
    "aqi.loc[aqi.month == 'Oct'].plot(x='year', y='AQI');"
   ]
  },
  {
   "cell_type": "code",
   "execution_count": 32,
   "id": "3097534b",
   "metadata": {},
   "outputs": [
    {
     "data": {
      "image/png": "[encoded data removed]",
      "text/plain": [
       "<Figure size 432x288 with 1 Axes>"
      ]
     },
     "metadata": {
      "needs_background": "light"
     },
     "output_type": "display_data"
    }
   ],
   "source": [
    "# zoom in on Nov\n",
    "aqi.loc[aqi.month == 'Nov'].plot(x='year', y='AQI');"
   ]
  },
  {
   "cell_type": "code",
   "execution_count": 33,
   "id": "82f58f46",
   "metadata": {
    "scrolled": true
   },
   "outputs": [
    {
     "data": {
      "image/png": "[encoded data removed]",
      "text/plain": [
       "<Figure size 432x288 with 1 Axes>"
      ]
     },
     "metadata": {
      "needs_background": "light"
     },
     "output_type": "display_data"
    }
   ],
   "source": [
    "# zoom in on Dec\n",
    "aqi.loc[aqi.month == 'Dec'].plot(x='year', y='AQI');"
   ]
  },
  {
   "cell_type": "code",
   "execution_count": 34,
   "id": "ad827cf9",
   "metadata": {},
   "outputs": [
    {
     "data": {
      "image/png": "[encoded data removed]",
      "text/plain": [
       "<Figure size 432x288 with 1 Axes>"
      ]
     },
     "metadata": {
      "needs_background": "light"
     },
     "output_type": "display_data"
    }
   ],
   "source": [
    "# creating dfs for each year\n",
    "aqi_2017 = aqi.loc[aqi.year == '2017']\n",
    "graph_2017_top = aqi_2017.plot(x='month', y=['AQI', 'PM10', 'PM25', 'O3'], title='2017')\n",
    "graph_2017_top;"
   ]
  },
  {
   "cell_type": "code",
   "execution_count": 35,
   "id": "9fe11452",
   "metadata": {},
   "outputs": [
    {
     "data": {
      "image/png": "[encoded data removed]",
      "text/plain": [
       "<Figure size 432x288 with 1 Axes>"
      ]
     },
     "metadata": {
      "needs_background": "light"
     },
     "output_type": "display_data"
    }
   ],
   "source": [
    "# splitting into two different charts for more detailed comparison\n",
    "graph_2017_bottom = aqi_2017.plot(x='month', y=['AQI', 'SO2', 'NOx', 'NH3'])\n",
    "graph_2017_bottom;"
   ]
  },
  {
   "cell_type": "code",
   "execution_count": 36,
   "id": "d1c6e260",
   "metadata": {},
   "outputs": [],
   "source": [
    "# the rest of the years"
   ]
  },
  {
   "cell_type": "code",
   "execution_count": 37,
   "id": "a6718461",
   "metadata": {},
   "outputs": [
    {
     "data": {
      "image/png": "[encoded data removed]",
      "text/plain": [
       "<Figure size 432x288 with 1 Axes>"
      ]
     },
     "metadata": {
      "needs_background": "light"
     },
     "output_type": "display_data"
    }
   ],
   "source": [
    "aqi_2018 = aqi.loc[aqi.year == '2018']\n",
    "graph_2018_top = aqi_2018.plot(x='month', y=['AQI', 'PM10', 'PM25', 'O3'], title='2018')\n",
    "graph_2018_top;"
   ]
  },
  {
   "cell_type": "code",
   "execution_count": 38,
   "id": "8d07dae2",
   "metadata": {},
   "outputs": [
    {
     "data": {
      "image/png": "[encoded data removed]",
      "text/plain": [
       "<Figure size 432x288 with 1 Axes>"
      ]
     },
     "metadata": {
      "needs_background": "light"
     },
     "output_type": "display_data"
    }
   ],
   "source": [
    "graph_2018_bottom = aqi_2018.plot(x='month', y=['AQI', 'SO2', 'NOx', 'NH3'])\n",
    "graph_2018_bottom;"
   ]
  },
  {
   "cell_type": "code",
   "execution_count": 39,
   "id": "87d8b23d",
   "metadata": {},
   "outputs": [
    {
     "data": {
      "image/png": "[encoded data removed]",
      "text/plain": [
       "<Figure size 432x288 with 1 Axes>"
      ]
     },
     "metadata": {
      "needs_background": "light"
     },
     "output_type": "display_data"
    }
   ],
   "source": [
    "aqi_2019 = aqi.loc[aqi.year == '2019']\n",
    "graph_2019_top = aqi_2019.plot(x='month', y=['AQI', 'PM10', 'PM25', 'O3'], title='2019')\n",
    "graph_2019_top;"
   ]
  },
  {
   "cell_type": "code",
   "execution_count": 40,
   "id": "6672465b",
   "metadata": {},
   "outputs": [
    {
     "data": {
      "image/png": "[encoded data removed]",
      "text/plain": [
       "<Figure size 432x288 with 1 Axes>"
      ]
     },
     "metadata": {
      "needs_background": "light"
     },
     "output_type": "display_data"
    }
   ],
   "source": [
    "graph_2019_bottom = aqi_2019.plot(x='month', y=['AQI', 'SO2', 'NOx', 'NH3'])\n",
    "graph_2019_bottom;"
   ]
  },
  {
   "cell_type": "code",
   "execution_count": 41,
   "id": "96e8883c",
   "metadata": {},
   "outputs": [
    {
     "data": {
      "image/png": "[encoded data removed]",
      "text/plain": [
       "<Figure size 432x288 with 1 Axes>"
      ]
     },
     "metadata": {
      "needs_background": "light"
     },
     "output_type": "display_data"
    }
   ],
   "source": [
    "aqi_2020 = aqi.loc[aqi.year == '2020']\n",
    "graph_2020_top = aqi_2020.plot(x='month', y=['AQI', 'PM10', 'PM25', 'O3'], title='2020')\n",
    "graph_2020_top;"
   ]
  },
  {
   "cell_type": "code",
   "execution_count": 42,
   "id": "772a7bf4",
   "metadata": {},
   "outputs": [
    {
     "data": {
      "image/png": "[encoded data removed]",
      "text/plain": [
       "<Figure size 432x288 with 1 Axes>"
      ]
     },
     "metadata": {
      "needs_background": "light"
     },
     "output_type": "display_data"
    }
   ],
   "source": [
    "graph_2020_bottom = aqi_2020.plot(x='month', y=['AQI', 'SO2', 'NOx', 'NH3'])\n",
    "graph_2020_bottom;"
   ]
  },
  {
   "cell_type": "code",
   "execution_count": 43,
   "id": "68fd071f",
   "metadata": {},
   "outputs": [
    {
     "data": {
      "image/png": "[encoded data removed]",
      "text/plain": [
       "<Figure size 432x288 with 1 Axes>"
      ]
     },
     "metadata": {
      "needs_background": "light"
     },
     "output_type": "display_data"
    }
   ],
   "source": [
    "aqi_2021 = aqi.loc[aqi.year == '2021']\n",
    "graph_2021_top = aqi_2021.plot(x='month', y=['AQI', 'PM10', 'PM25', 'O3'], title='2021')\n",
    "graph_2021_top;"
   ]
  },
  {
   "cell_type": "code",
   "execution_count": 44,
   "id": "dd18f5fd",
   "metadata": {},
   "outputs": [
    {
     "data": {
      "image/png": "[encoded data removed]",
      "text/plain": [
       "<Figure size 432x288 with 1 Axes>"
      ]
     },
     "metadata": {
      "needs_background": "light"
     },
     "output_type": "display_data"
    }
   ],
   "source": [
    "graph_2021_bottom = aqi_2021.plot(x='month', y=['AQI', 'SO2', 'NOx', 'NH3'])\n",
    "graph_2021_bottom;"
   ]
  },
  {
   "cell_type": "code",
   "execution_count": 45,
   "id": "1e6f4225",
   "metadata": {},
   "outputs": [
    {
     "data": {
      "image/png": "[encoded data removed]",
      "text/plain": [
       "<Figure size 432x288 with 1 Axes>"
      ]
     },
     "metadata": {
      "needs_background": "light"
     },
     "output_type": "display_data"
    }
   ],
   "source": [
    "aqi_2022 = aqi.loc[aqi.year == '2022']\n",
    "graph_2022_top = aqi_2022.plot(x='month', y=['AQI', 'PM10', 'PM25', 'O3'], title='2022')\n",
    "graph_2022_top;"
   ]
  },
  {
   "cell_type": "code",
   "execution_count": 46,
   "id": "31b94749",
   "metadata": {},
   "outputs": [
    {
     "data": {
      "image/png": "[encoded data removed]",
      "text/plain": [
       "<Figure size 432x288 with 1 Axes>"
      ]
     },
     "metadata": {
      "needs_background": "light"
     },
     "output_type": "display_data"
    }
   ],
   "source": [
    "graph_2022_bottom = aqi_2022.plot(x='month', y=['AQI', 'SO2', 'NOx', 'NH3'])\n",
    "graph_2022_bottom;"
   ]
  },
  {
   "cell_type": "markdown",
   "id": "e527e7a5",
   "metadata": {},
   "source": [
    "Are there any gases that change in level frequently? are there any that seem to change in tandem with others?"
   ]
  },
  {
   "cell_type": "markdown",
   "id": "5638493c",
   "metadata": {},
   "source": [
    "PM25 appears to change frequently, O3 as well. It is difficult to zoom in on the smaller numbers in these current graphs, since the graph is larger scale. Let's zoom in."
   ]
  },
  {
   "cell_type": "code",
   "execution_count": 47,
   "id": "1fd1c266",
   "metadata": {},
   "outputs": [],
   "source": [
    "#smaller scale numbers only:"
   ]
  },
  {
   "cell_type": "code",
   "execution_count": 48,
   "id": "7ddc04b3",
   "metadata": {},
   "outputs": [
    {
     "data": {
      "image/png": "[encoded data removed]",
      "text/plain": [
       "<Figure size 432x288 with 1 Axes>"
      ]
     },
     "metadata": {
      "needs_background": "light"
     },
     "output_type": "display_data"
    }
   ],
   "source": [
    "# 2017\n",
    "aqi_2017.plot(x='month', y=['SO2', 'NOx', 'NH3']);"
   ]
  },
  {
   "cell_type": "markdown",
   "id": "9e79dd62",
   "metadata": {},
   "source": [
    "All three types of pollutants appear to track together.\n",
    "\n",
    "Let's look at the next few years."
   ]
  },
  {
   "cell_type": "code",
   "execution_count": 49,
   "id": "2ec1a30f",
   "metadata": {},
   "outputs": [
    {
     "data": {
      "image/png": "[encoded data removed]",
      "text/plain": [
       "<Figure size 432x288 with 1 Axes>"
      ]
     },
     "metadata": {
      "needs_background": "light"
     },
     "output_type": "display_data"
    }
   ],
   "source": [
    "# 2018\n",
    "aqi_2018.plot(x='month', y=['SO2', 'NOx', 'NH3']);"
   ]
  },
  {
   "cell_type": "code",
   "execution_count": 50,
   "id": "df7e7714",
   "metadata": {},
   "outputs": [
    {
     "data": {
      "image/png": "[encoded data removed]",
      "text/plain": [
       "<Figure size 432x288 with 1 Axes>"
      ]
     },
     "metadata": {
      "needs_background": "light"
     },
     "output_type": "display_data"
    }
   ],
   "source": [
    "# 2019\n",
    "aqi_2019.plot(x='month', y=['SO2', 'NOx', 'NH3']);"
   ]
  },
  {
   "cell_type": "markdown",
   "id": "ca2c3472",
   "metadata": {},
   "source": [
    "Are there any months that raise serious concerns or questions?"
   ]
  },
  {
   "cell_type": "code",
   "execution_count": 51,
   "id": "c038ef63",
   "metadata": {},
   "outputs": [
    {
     "data": {
      "text/plain": [
       "105.57164179104477"
      ]
     },
     "execution_count": 51,
     "metadata": {},
     "output_type": "execute_result"
    }
   ],
   "source": [
    "# average of all AQI readings (base AQI)\n",
    "aqi.AQI.mean()"
   ]
  },
  {
   "cell_type": "code",
   "execution_count": 52,
   "id": "6d6597a7",
   "metadata": {},
   "outputs": [
    {
     "data": {
      "text/plain": [
       "month\n",
       "Apr    108.540000\n",
       "Aug     84.883333\n",
       "Dec    119.380000\n",
       "Feb    113.866667\n",
       "Jan    129.916667\n",
       "Jul     87.716667\n",
       "Jun     96.220000\n",
       "Mar    119.600000\n",
       "May    106.220000\n",
       "Nov    114.120000\n",
       "Oct    104.100000\n",
       "Sep     85.066667\n",
       "Name: AQI, dtype: float64"
      ]
     },
     "execution_count": 52,
     "metadata": {},
     "output_type": "execute_result"
    }
   ],
   "source": [
    "# AQI average grouped by month\n",
    "aqi.groupby('month').mean().AQI"
   ]
  },
  {
   "cell_type": "markdown",
   "id": "6f9cdedc",
   "metadata": {},
   "source": [
    "January is a particularly high month, with December, February, and November being slightly higher than average AQI."
   ]
  },
  {
   "cell_type": "markdown",
   "id": "6d1292de",
   "metadata": {},
   "source": [
    "Which months are lowest?"
   ]
  },
  {
   "cell_type": "markdown",
   "id": "b3959888",
   "metadata": {},
   "source": [
    "If average is 105 AQI, August, July, and September are averaging lower, and June is slightly lower."
   ]
  },
  {
   "cell_type": "code",
   "execution_count": 53,
   "id": "b7458cce",
   "metadata": {},
   "outputs": [
    {
     "data": {
      "text/html": [
       "<div>\n",
       "<style scoped>\n",
       "    .dataframe tbody tr th:only-of-type {\n",
       "        vertical-align: middle;\n",
       "    }\n",
       "\n",
       "    .dataframe tbody tr th {\n",
       "        vertical-align: top;\n",
       "    }\n",
       "\n",
       "    .dataframe thead th {\n",
       "        text-align: right;\n",
       "    }\n",
       "</style>\n",
       "<table border=\"1\" class=\"dataframe\">\n",
       "  <thead>\n",
       "    <tr style=\"text-align: right;\">\n",
       "      <th></th>\n",
       "      <th>month</th>\n",
       "      <th>year</th>\n",
       "      <th>PM10</th>\n",
       "      <th>SO2</th>\n",
       "      <th>NOx</th>\n",
       "      <th>PM25</th>\n",
       "      <th>NH3</th>\n",
       "      <th>O3</th>\n",
       "      <th>CO</th>\n",
       "      <th>benzene</th>\n",
       "      <th>AQI</th>\n",
       "      <th>level_of_concern</th>\n",
       "    </tr>\n",
       "  </thead>\n",
       "  <tbody>\n",
       "    <tr>\n",
       "      <th>70</th>\n",
       "      <td>Nov</td>\n",
       "      <td>2022</td>\n",
       "      <td>87.0</td>\n",
       "      <td>10.4</td>\n",
       "      <td>28.2</td>\n",
       "      <td>78</td>\n",
       "      <td>30.0</td>\n",
       "      <td>12.1</td>\n",
       "      <td>1.52</td>\n",
       "      <td>0.03</td>\n",
       "      <td>166.0</td>\n",
       "      <td>unhealthy</td>\n",
       "    </tr>\n",
       "    <tr>\n",
       "      <th>71</th>\n",
       "      <td>Dec</td>\n",
       "      <td>2022</td>\n",
       "      <td>88.0</td>\n",
       "      <td>13.0</td>\n",
       "      <td>34.5</td>\n",
       "      <td>72</td>\n",
       "      <td>15.0</td>\n",
       "      <td>16.5</td>\n",
       "      <td>1.39</td>\n",
       "      <td>0.04</td>\n",
       "      <td>162.0</td>\n",
       "      <td>unhealthy</td>\n",
       "    </tr>\n",
       "    <tr>\n",
       "      <th>12</th>\n",
       "      <td>Jan</td>\n",
       "      <td>2018</td>\n",
       "      <td>NaN</td>\n",
       "      <td>NaN</td>\n",
       "      <td>NaN</td>\n",
       "      <td>75</td>\n",
       "      <td>26.0</td>\n",
       "      <td>71.7</td>\n",
       "      <td>0.80</td>\n",
       "      <td>0.40</td>\n",
       "      <td>156.0</td>\n",
       "      <td>unhealthy</td>\n",
       "    </tr>\n",
       "    <tr>\n",
       "      <th>0</th>\n",
       "      <td>Jan</td>\n",
       "      <td>2017</td>\n",
       "      <td>174.0</td>\n",
       "      <td>26.4</td>\n",
       "      <td>35.0</td>\n",
       "      <td>79</td>\n",
       "      <td>25.0</td>\n",
       "      <td>107.6</td>\n",
       "      <td>0.90</td>\n",
       "      <td>0.70</td>\n",
       "      <td>149.0</td>\n",
       "      <td>unhealthy for sensitive</td>\n",
       "    </tr>\n",
       "    <tr>\n",
       "      <th>60</th>\n",
       "      <td>Jan</td>\n",
       "      <td>2022</td>\n",
       "      <td>87.0</td>\n",
       "      <td>13.2</td>\n",
       "      <td>29.2</td>\n",
       "      <td>62</td>\n",
       "      <td>16.0</td>\n",
       "      <td>14.6</td>\n",
       "      <td>0.54</td>\n",
       "      <td>0.05</td>\n",
       "      <td>146.0</td>\n",
       "      <td>unhealthy for sensitive</td>\n",
       "    </tr>\n",
       "    <tr>\n",
       "      <th>...</th>\n",
       "      <td>...</td>\n",
       "      <td>...</td>\n",
       "      <td>...</td>\n",
       "      <td>...</td>\n",
       "      <td>...</td>\n",
       "      <td>...</td>\n",
       "      <td>...</td>\n",
       "      <td>...</td>\n",
       "      <td>...</td>\n",
       "      <td>...</td>\n",
       "      <td>...</td>\n",
       "      <td>...</td>\n",
       "    </tr>\n",
       "    <tr>\n",
       "      <th>68</th>\n",
       "      <td>Sep</td>\n",
       "      <td>2022</td>\n",
       "      <td>92.0</td>\n",
       "      <td>13.0</td>\n",
       "      <td>37.3</td>\n",
       "      <td>30</td>\n",
       "      <td>31.0</td>\n",
       "      <td>10.0</td>\n",
       "      <td>0.70</td>\n",
       "      <td>0.06</td>\n",
       "      <td>76.0</td>\n",
       "      <td>moderate</td>\n",
       "    </tr>\n",
       "    <tr>\n",
       "      <th>19</th>\n",
       "      <td>Aug</td>\n",
       "      <td>2018</td>\n",
       "      <td>171.0</td>\n",
       "      <td>16.5</td>\n",
       "      <td>28.8</td>\n",
       "      <td>19</td>\n",
       "      <td>24.0</td>\n",
       "      <td>12.6</td>\n",
       "      <td>0.30</td>\n",
       "      <td>0.20</td>\n",
       "      <td>75.0</td>\n",
       "      <td>moderate</td>\n",
       "    </tr>\n",
       "    <tr>\n",
       "      <th>67</th>\n",
       "      <td>Aug</td>\n",
       "      <td>2022</td>\n",
       "      <td>89.0</td>\n",
       "      <td>12.0</td>\n",
       "      <td>35.0</td>\n",
       "      <td>22</td>\n",
       "      <td>26.0</td>\n",
       "      <td>15.2</td>\n",
       "      <td>0.64</td>\n",
       "      <td>0.09</td>\n",
       "      <td>67.0</td>\n",
       "      <td>moderate</td>\n",
       "    </tr>\n",
       "    <tr>\n",
       "      <th>18</th>\n",
       "      <td>Jul</td>\n",
       "      <td>2018</td>\n",
       "      <td>123.0</td>\n",
       "      <td>14.5</td>\n",
       "      <td>31.3</td>\n",
       "      <td>22</td>\n",
       "      <td>33.0</td>\n",
       "      <td>7.9</td>\n",
       "      <td>0.20</td>\n",
       "      <td>0.40</td>\n",
       "      <td>65.6</td>\n",
       "      <td>moderate</td>\n",
       "    </tr>\n",
       "    <tr>\n",
       "      <th>66</th>\n",
       "      <td>Jul</td>\n",
       "      <td>2022</td>\n",
       "      <td>76.0</td>\n",
       "      <td>9.3</td>\n",
       "      <td>30.3</td>\n",
       "      <td>23</td>\n",
       "      <td>26.0</td>\n",
       "      <td>15.7</td>\n",
       "      <td>0.69</td>\n",
       "      <td>0.03</td>\n",
       "      <td>58.0</td>\n",
       "      <td>moderate</td>\n",
       "    </tr>\n",
       "  </tbody>\n",
       "</table>\n",
       "<p>67 rows × 12 columns</p>\n",
       "</div>"
      ],
      "text/plain": [
       "   month  year   PM10   SO2   NOx  PM25   NH3     O3    CO  benzene    AQI  \\\n",
       "70   Nov  2022   87.0  10.4  28.2    78  30.0   12.1  1.52     0.03  166.0   \n",
       "71   Dec  2022   88.0  13.0  34.5    72  15.0   16.5  1.39     0.04  162.0   \n",
       "12   Jan  2018    NaN   NaN   NaN    75  26.0   71.7  0.80     0.40  156.0   \n",
       "0    Jan  2017  174.0  26.4  35.0    79  25.0  107.6  0.90     0.70  149.0   \n",
       "60   Jan  2022   87.0  13.2  29.2    62  16.0   14.6  0.54     0.05  146.0   \n",
       "..   ...   ...    ...   ...   ...   ...   ...    ...   ...      ...    ...   \n",
       "68   Sep  2022   92.0  13.0  37.3    30  31.0   10.0  0.70     0.06   76.0   \n",
       "19   Aug  2018  171.0  16.5  28.8    19  24.0   12.6  0.30     0.20   75.0   \n",
       "67   Aug  2022   89.0  12.0  35.0    22  26.0   15.2  0.64     0.09   67.0   \n",
       "18   Jul  2018  123.0  14.5  31.3    22  33.0    7.9  0.20     0.40   65.6   \n",
       "66   Jul  2022   76.0   9.3  30.3    23  26.0   15.7  0.69     0.03   58.0   \n",
       "\n",
       "           level_of_concern  \n",
       "70                unhealthy  \n",
       "71                unhealthy  \n",
       "12                unhealthy  \n",
       "0   unhealthy for sensitive  \n",
       "60  unhealthy for sensitive  \n",
       "..                      ...  \n",
       "68                 moderate  \n",
       "19                 moderate  \n",
       "67                 moderate  \n",
       "18                 moderate  \n",
       "66                 moderate  \n",
       "\n",
       "[67 rows x 12 columns]"
      ]
     },
     "execution_count": 53,
     "metadata": {},
     "output_type": "execute_result"
    }
   ],
   "source": [
    "aqi.sort_values(by='AQI', ascending=False)"
   ]
  },
  {
   "cell_type": "code",
   "execution_count": 54,
   "id": "424aee92",
   "metadata": {},
   "outputs": [
    {
     "data": {
      "text/html": [
       "<div>\n",
       "<style scoped>\n",
       "    .dataframe tbody tr th:only-of-type {\n",
       "        vertical-align: middle;\n",
       "    }\n",
       "\n",
       "    .dataframe tbody tr th {\n",
       "        vertical-align: top;\n",
       "    }\n",
       "\n",
       "    .dataframe thead th {\n",
       "        text-align: right;\n",
       "    }\n",
       "</style>\n",
       "<table border=\"1\" class=\"dataframe\">\n",
       "  <thead>\n",
       "    <tr style=\"text-align: right;\">\n",
       "      <th></th>\n",
       "      <th>month</th>\n",
       "      <th>year</th>\n",
       "      <th>PM10</th>\n",
       "      <th>SO2</th>\n",
       "      <th>NOx</th>\n",
       "      <th>PM25</th>\n",
       "      <th>NH3</th>\n",
       "      <th>O3</th>\n",
       "      <th>CO</th>\n",
       "      <th>benzene</th>\n",
       "      <th>AQI</th>\n",
       "      <th>level_of_concern</th>\n",
       "    </tr>\n",
       "  </thead>\n",
       "  <tbody>\n",
       "    <tr>\n",
       "      <th>12</th>\n",
       "      <td>Jan</td>\n",
       "      <td>2018</td>\n",
       "      <td>NaN</td>\n",
       "      <td>NaN</td>\n",
       "      <td>NaN</td>\n",
       "      <td>75</td>\n",
       "      <td>26.0</td>\n",
       "      <td>71.7</td>\n",
       "      <td>0.80</td>\n",
       "      <td>0.40</td>\n",
       "      <td>156.0</td>\n",
       "      <td>unhealthy</td>\n",
       "    </tr>\n",
       "    <tr>\n",
       "      <th>70</th>\n",
       "      <td>Nov</td>\n",
       "      <td>2022</td>\n",
       "      <td>87.0</td>\n",
       "      <td>10.4</td>\n",
       "      <td>28.2</td>\n",
       "      <td>78</td>\n",
       "      <td>30.0</td>\n",
       "      <td>12.1</td>\n",
       "      <td>1.52</td>\n",
       "      <td>0.03</td>\n",
       "      <td>166.0</td>\n",
       "      <td>unhealthy</td>\n",
       "    </tr>\n",
       "    <tr>\n",
       "      <th>71</th>\n",
       "      <td>Dec</td>\n",
       "      <td>2022</td>\n",
       "      <td>88.0</td>\n",
       "      <td>13.0</td>\n",
       "      <td>34.5</td>\n",
       "      <td>72</td>\n",
       "      <td>15.0</td>\n",
       "      <td>16.5</td>\n",
       "      <td>1.39</td>\n",
       "      <td>0.04</td>\n",
       "      <td>162.0</td>\n",
       "      <td>unhealthy</td>\n",
       "    </tr>\n",
       "  </tbody>\n",
       "</table>\n",
       "</div>"
      ],
      "text/plain": [
       "   month  year  PM10   SO2   NOx  PM25   NH3    O3    CO  benzene    AQI  \\\n",
       "12   Jan  2018   NaN   NaN   NaN    75  26.0  71.7  0.80     0.40  156.0   \n",
       "70   Nov  2022  87.0  10.4  28.2    78  30.0  12.1  1.52     0.03  166.0   \n",
       "71   Dec  2022  88.0  13.0  34.5    72  15.0  16.5  1.39     0.04  162.0   \n",
       "\n",
       "   level_of_concern  \n",
       "12        unhealthy  \n",
       "70        unhealthy  \n",
       "71        unhealthy  "
      ]
     },
     "execution_count": 54,
     "metadata": {},
     "output_type": "execute_result"
    }
   ],
   "source": [
    "unhealthy = aqi.loc[aqi.level_of_concern == 'unhealthy']\n",
    "unhealthy"
   ]
  },
  {
   "cell_type": "code",
   "execution_count": 55,
   "id": "e6bff923",
   "metadata": {},
   "outputs": [
    {
     "data": {
      "text/html": [
       "<div>\n",
       "<style scoped>\n",
       "    .dataframe tbody tr th:only-of-type {\n",
       "        vertical-align: middle;\n",
       "    }\n",
       "\n",
       "    .dataframe tbody tr th {\n",
       "        vertical-align: top;\n",
       "    }\n",
       "\n",
       "    .dataframe thead th {\n",
       "        text-align: right;\n",
       "    }\n",
       "</style>\n",
       "<table border=\"1\" class=\"dataframe\">\n",
       "  <thead>\n",
       "    <tr style=\"text-align: right;\">\n",
       "      <th></th>\n",
       "      <th>month</th>\n",
       "      <th>year</th>\n",
       "      <th>PM10</th>\n",
       "      <th>SO2</th>\n",
       "      <th>NOx</th>\n",
       "      <th>PM25</th>\n",
       "      <th>NH3</th>\n",
       "      <th>O3</th>\n",
       "      <th>CO</th>\n",
       "      <th>benzene</th>\n",
       "      <th>AQI</th>\n",
       "      <th>level_of_concern</th>\n",
       "    </tr>\n",
       "  </thead>\n",
       "  <tbody>\n",
       "    <tr>\n",
       "      <th>0</th>\n",
       "      <td>Jan</td>\n",
       "      <td>2017</td>\n",
       "      <td>174.0</td>\n",
       "      <td>26.4</td>\n",
       "      <td>35.0</td>\n",
       "      <td>79</td>\n",
       "      <td>25.0</td>\n",
       "      <td>107.6</td>\n",
       "      <td>0.90</td>\n",
       "      <td>0.70</td>\n",
       "      <td>149.0</td>\n",
       "      <td>unhealthy for sensitive</td>\n",
       "    </tr>\n",
       "    <tr>\n",
       "      <th>1</th>\n",
       "      <td>Feb</td>\n",
       "      <td>2017</td>\n",
       "      <td>143.0</td>\n",
       "      <td>35.1</td>\n",
       "      <td>40.3</td>\n",
       "      <td>75</td>\n",
       "      <td>31.0</td>\n",
       "      <td>103.0</td>\n",
       "      <td>0.90</td>\n",
       "      <td>0.90</td>\n",
       "      <td>129.0</td>\n",
       "      <td>unhealthy for sensitive</td>\n",
       "    </tr>\n",
       "    <tr>\n",
       "      <th>2</th>\n",
       "      <td>Mar</td>\n",
       "      <td>2017</td>\n",
       "      <td>142.0</td>\n",
       "      <td>32.1</td>\n",
       "      <td>30.9</td>\n",
       "      <td>59</td>\n",
       "      <td>26.0</td>\n",
       "      <td>80.7</td>\n",
       "      <td>0.80</td>\n",
       "      <td>0.50</td>\n",
       "      <td>128.0</td>\n",
       "      <td>unhealthy for sensitive</td>\n",
       "    </tr>\n",
       "    <tr>\n",
       "      <th>3</th>\n",
       "      <td>Apr</td>\n",
       "      <td>2017</td>\n",
       "      <td>117.0</td>\n",
       "      <td>50.9</td>\n",
       "      <td>36.3</td>\n",
       "      <td>75</td>\n",
       "      <td>36.0</td>\n",
       "      <td>79.5</td>\n",
       "      <td>0.90</td>\n",
       "      <td>0.70</td>\n",
       "      <td>111.0</td>\n",
       "      <td>unhealthy for sensitive</td>\n",
       "    </tr>\n",
       "    <tr>\n",
       "      <th>6</th>\n",
       "      <td>Jul</td>\n",
       "      <td>2017</td>\n",
       "      <td>111.0</td>\n",
       "      <td>38.9</td>\n",
       "      <td>21.5</td>\n",
       "      <td>29</td>\n",
       "      <td>30.0</td>\n",
       "      <td>24.4</td>\n",
       "      <td>0.30</td>\n",
       "      <td>0.70</td>\n",
       "      <td>106.7</td>\n",
       "      <td>unhealthy for sensitive</td>\n",
       "    </tr>\n",
       "    <tr>\n",
       "      <th>9</th>\n",
       "      <td>Oct</td>\n",
       "      <td>2017</td>\n",
       "      <td>146.0</td>\n",
       "      <td>37.1</td>\n",
       "      <td>32.6</td>\n",
       "      <td>63</td>\n",
       "      <td>23.0</td>\n",
       "      <td>52.8</td>\n",
       "      <td>0.60</td>\n",
       "      <td>0.50</td>\n",
       "      <td>130.0</td>\n",
       "      <td>unhealthy for sensitive</td>\n",
       "    </tr>\n",
       "    <tr>\n",
       "      <th>13</th>\n",
       "      <td>Feb</td>\n",
       "      <td>2018</td>\n",
       "      <td>178.0</td>\n",
       "      <td>17.0</td>\n",
       "      <td>37.0</td>\n",
       "      <td>53</td>\n",
       "      <td>23.0</td>\n",
       "      <td>54.1</td>\n",
       "      <td>0.70</td>\n",
       "      <td>0.30</td>\n",
       "      <td>118.0</td>\n",
       "      <td>unhealthy for sensitive</td>\n",
       "    </tr>\n",
       "    <tr>\n",
       "      <th>14</th>\n",
       "      <td>Mar</td>\n",
       "      <td>2018</td>\n",
       "      <td>144.0</td>\n",
       "      <td>17.2</td>\n",
       "      <td>29.7</td>\n",
       "      <td>63</td>\n",
       "      <td>22.0</td>\n",
       "      <td>48.3</td>\n",
       "      <td>0.70</td>\n",
       "      <td>0.30</td>\n",
       "      <td>129.0</td>\n",
       "      <td>unhealthy for sensitive</td>\n",
       "    </tr>\n",
       "    <tr>\n",
       "      <th>15</th>\n",
       "      <td>Apr</td>\n",
       "      <td>2018</td>\n",
       "      <td>159.0</td>\n",
       "      <td>16.5</td>\n",
       "      <td>30.0</td>\n",
       "      <td>44</td>\n",
       "      <td>20.0</td>\n",
       "      <td>38.7</td>\n",
       "      <td>0.50</td>\n",
       "      <td>0.20</td>\n",
       "      <td>109.4</td>\n",
       "      <td>unhealthy for sensitive</td>\n",
       "    </tr>\n",
       "    <tr>\n",
       "      <th>16</th>\n",
       "      <td>May</td>\n",
       "      <td>2018</td>\n",
       "      <td>130.0</td>\n",
       "      <td>16.6</td>\n",
       "      <td>32.3</td>\n",
       "      <td>39</td>\n",
       "      <td>16.9</td>\n",
       "      <td>39.5</td>\n",
       "      <td>0.50</td>\n",
       "      <td>0.20</td>\n",
       "      <td>106.9</td>\n",
       "      <td>unhealthy for sensitive</td>\n",
       "    </tr>\n",
       "    <tr>\n",
       "      <th>21</th>\n",
       "      <td>Oct</td>\n",
       "      <td>2018</td>\n",
       "      <td>125.0</td>\n",
       "      <td>16.5</td>\n",
       "      <td>27.3</td>\n",
       "      <td>63</td>\n",
       "      <td>14.0</td>\n",
       "      <td>18.0</td>\n",
       "      <td>0.50</td>\n",
       "      <td>0.10</td>\n",
       "      <td>127.0</td>\n",
       "      <td>unhealthy for sensitive</td>\n",
       "    </tr>\n",
       "    <tr>\n",
       "      <th>22</th>\n",
       "      <td>Nov</td>\n",
       "      <td>2018</td>\n",
       "      <td>132.0</td>\n",
       "      <td>14.2</td>\n",
       "      <td>30.4</td>\n",
       "      <td>54</td>\n",
       "      <td>11.0</td>\n",
       "      <td>20.1</td>\n",
       "      <td>0.50</td>\n",
       "      <td>0.10</td>\n",
       "      <td>110.5</td>\n",
       "      <td>unhealthy for sensitive</td>\n",
       "    </tr>\n",
       "    <tr>\n",
       "      <th>23</th>\n",
       "      <td>Dec</td>\n",
       "      <td>2018</td>\n",
       "      <td>139.0</td>\n",
       "      <td>14.3</td>\n",
       "      <td>29.8</td>\n",
       "      <td>67</td>\n",
       "      <td>11.0</td>\n",
       "      <td>19.3</td>\n",
       "      <td>0.60</td>\n",
       "      <td>0.10</td>\n",
       "      <td>135.9</td>\n",
       "      <td>unhealthy for sensitive</td>\n",
       "    </tr>\n",
       "    <tr>\n",
       "      <th>24</th>\n",
       "      <td>Jan</td>\n",
       "      <td>2019</td>\n",
       "      <td>106.0</td>\n",
       "      <td>4.8</td>\n",
       "      <td>26.0</td>\n",
       "      <td>77</td>\n",
       "      <td>21.0</td>\n",
       "      <td>17.6</td>\n",
       "      <td>0.60</td>\n",
       "      <td>0.10</td>\n",
       "      <td>103.5</td>\n",
       "      <td>unhealthy for sensitive</td>\n",
       "    </tr>\n",
       "    <tr>\n",
       "      <th>25</th>\n",
       "      <td>Feb</td>\n",
       "      <td>2019</td>\n",
       "      <td>106.0</td>\n",
       "      <td>6.1</td>\n",
       "      <td>29.5</td>\n",
       "      <td>56</td>\n",
       "      <td>16.0</td>\n",
       "      <td>18.9</td>\n",
       "      <td>0.60</td>\n",
       "      <td>0.10</td>\n",
       "      <td>103.5</td>\n",
       "      <td>unhealthy for sensitive</td>\n",
       "    </tr>\n",
       "    <tr>\n",
       "      <th>26</th>\n",
       "      <td>Mar</td>\n",
       "      <td>2019</td>\n",
       "      <td>104.0</td>\n",
       "      <td>4.8</td>\n",
       "      <td>26.0</td>\n",
       "      <td>50</td>\n",
       "      <td>19.0</td>\n",
       "      <td>15.1</td>\n",
       "      <td>0.60</td>\n",
       "      <td>0.10</td>\n",
       "      <td>100.6</td>\n",
       "      <td>unhealthy for sensitive</td>\n",
       "    </tr>\n",
       "    <tr>\n",
       "      <th>28</th>\n",
       "      <td>May</td>\n",
       "      <td>2019</td>\n",
       "      <td>108.0</td>\n",
       "      <td>8.9</td>\n",
       "      <td>28.5</td>\n",
       "      <td>50</td>\n",
       "      <td>25.0</td>\n",
       "      <td>34.2</td>\n",
       "      <td>0.60</td>\n",
       "      <td>0.10</td>\n",
       "      <td>105.2</td>\n",
       "      <td>unhealthy for sensitive</td>\n",
       "    </tr>\n",
       "    <tr>\n",
       "      <th>29</th>\n",
       "      <td>Jun</td>\n",
       "      <td>2019</td>\n",
       "      <td>104.0</td>\n",
       "      <td>8.9</td>\n",
       "      <td>29.0</td>\n",
       "      <td>31</td>\n",
       "      <td>26.0</td>\n",
       "      <td>24.9</td>\n",
       "      <td>0.40</td>\n",
       "      <td>0.10</td>\n",
       "      <td>101.5</td>\n",
       "      <td>unhealthy for sensitive</td>\n",
       "    </tr>\n",
       "    <tr>\n",
       "      <th>35</th>\n",
       "      <td>Dec</td>\n",
       "      <td>2019</td>\n",
       "      <td>108.0</td>\n",
       "      <td>5.1</td>\n",
       "      <td>30.7</td>\n",
       "      <td>73</td>\n",
       "      <td>20.0</td>\n",
       "      <td>33.5</td>\n",
       "      <td>0.60</td>\n",
       "      <td>0.20</td>\n",
       "      <td>105.0</td>\n",
       "      <td>unhealthy for sensitive</td>\n",
       "    </tr>\n",
       "    <tr>\n",
       "      <th>36</th>\n",
       "      <td>Jan</td>\n",
       "      <td>2020</td>\n",
       "      <td>134.0</td>\n",
       "      <td>9.0</td>\n",
       "      <td>33.3</td>\n",
       "      <td>58</td>\n",
       "      <td>23.0</td>\n",
       "      <td>31.5</td>\n",
       "      <td>0.50</td>\n",
       "      <td>0.20</td>\n",
       "      <td>123.0</td>\n",
       "      <td>unhealthy for sensitive</td>\n",
       "    </tr>\n",
       "    <tr>\n",
       "      <th>37</th>\n",
       "      <td>Feb</td>\n",
       "      <td>2020</td>\n",
       "      <td>131.0</td>\n",
       "      <td>9.1</td>\n",
       "      <td>37.1</td>\n",
       "      <td>44</td>\n",
       "      <td>21.0</td>\n",
       "      <td>26.0</td>\n",
       "      <td>0.40</td>\n",
       "      <td>0.30</td>\n",
       "      <td>120.7</td>\n",
       "      <td>unhealthy for sensitive</td>\n",
       "    </tr>\n",
       "    <tr>\n",
       "      <th>38</th>\n",
       "      <td>Mar</td>\n",
       "      <td>2020</td>\n",
       "      <td>129.0</td>\n",
       "      <td>9.0</td>\n",
       "      <td>37.2</td>\n",
       "      <td>35</td>\n",
       "      <td>22.0</td>\n",
       "      <td>23.5</td>\n",
       "      <td>0.40</td>\n",
       "      <td>0.20</td>\n",
       "      <td>120.0</td>\n",
       "      <td>unhealthy for sensitive</td>\n",
       "    </tr>\n",
       "    <tr>\n",
       "      <th>40</th>\n",
       "      <td>May</td>\n",
       "      <td>2020</td>\n",
       "      <td>122.0</td>\n",
       "      <td>12.0</td>\n",
       "      <td>25.3</td>\n",
       "      <td>30</td>\n",
       "      <td>32.0</td>\n",
       "      <td>24.0</td>\n",
       "      <td>0.40</td>\n",
       "      <td>0.30</td>\n",
       "      <td>115.0</td>\n",
       "      <td>unhealthy for sensitive</td>\n",
       "    </tr>\n",
       "    <tr>\n",
       "      <th>41</th>\n",
       "      <td>Jun</td>\n",
       "      <td>2020</td>\n",
       "      <td>133.0</td>\n",
       "      <td>12.0</td>\n",
       "      <td>31.4</td>\n",
       "      <td>22</td>\n",
       "      <td>37.0</td>\n",
       "      <td>12.0</td>\n",
       "      <td>0.30</td>\n",
       "      <td>0.40</td>\n",
       "      <td>123.0</td>\n",
       "      <td>unhealthy for sensitive</td>\n",
       "    </tr>\n",
       "    <tr>\n",
       "      <th>42</th>\n",
       "      <td>Jul</td>\n",
       "      <td>2020</td>\n",
       "      <td>129.0</td>\n",
       "      <td>10.0</td>\n",
       "      <td>28.0</td>\n",
       "      <td>18</td>\n",
       "      <td>23.0</td>\n",
       "      <td>7.8</td>\n",
       "      <td>0.30</td>\n",
       "      <td>0.30</td>\n",
       "      <td>119.0</td>\n",
       "      <td>unhealthy for sensitive</td>\n",
       "    </tr>\n",
       "    <tr>\n",
       "      <th>43</th>\n",
       "      <td>Aug</td>\n",
       "      <td>2020</td>\n",
       "      <td>113.0</td>\n",
       "      <td>13.4</td>\n",
       "      <td>27.1</td>\n",
       "      <td>17</td>\n",
       "      <td>28.0</td>\n",
       "      <td>6.9</td>\n",
       "      <td>0.30</td>\n",
       "      <td>0.30</td>\n",
       "      <td>108.0</td>\n",
       "      <td>unhealthy for sensitive</td>\n",
       "    </tr>\n",
       "    <tr>\n",
       "      <th>46</th>\n",
       "      <td>Nov</td>\n",
       "      <td>2020</td>\n",
       "      <td>102.0</td>\n",
       "      <td>11.0</td>\n",
       "      <td>32.0</td>\n",
       "      <td>59</td>\n",
       "      <td>17.0</td>\n",
       "      <td>47.2</td>\n",
       "      <td>0.40</td>\n",
       "      <td>0.20</td>\n",
       "      <td>101.0</td>\n",
       "      <td>unhealthy for sensitive</td>\n",
       "    </tr>\n",
       "    <tr>\n",
       "      <th>47</th>\n",
       "      <td>Dec</td>\n",
       "      <td>2020</td>\n",
       "      <td>106.0</td>\n",
       "      <td>9.8</td>\n",
       "      <td>29.4</td>\n",
       "      <td>87</td>\n",
       "      <td>17.0</td>\n",
       "      <td>36.6</td>\n",
       "      <td>0.50</td>\n",
       "      <td>0.20</td>\n",
       "      <td>104.0</td>\n",
       "      <td>unhealthy for sensitive</td>\n",
       "    </tr>\n",
       "    <tr>\n",
       "      <th>48</th>\n",
       "      <td>Jan</td>\n",
       "      <td>2021</td>\n",
       "      <td>104.0</td>\n",
       "      <td>4.0</td>\n",
       "      <td>30.9</td>\n",
       "      <td>74</td>\n",
       "      <td>22.0</td>\n",
       "      <td>21.7</td>\n",
       "      <td>0.50</td>\n",
       "      <td>0.20</td>\n",
       "      <td>102.0</td>\n",
       "      <td>unhealthy for sensitive</td>\n",
       "    </tr>\n",
       "    <tr>\n",
       "      <th>50</th>\n",
       "      <td>Mar</td>\n",
       "      <td>2021</td>\n",
       "      <td>105.0</td>\n",
       "      <td>12.0</td>\n",
       "      <td>31.6</td>\n",
       "      <td>67</td>\n",
       "      <td>24.0</td>\n",
       "      <td>2.4</td>\n",
       "      <td>0.50</td>\n",
       "      <td>0.30</td>\n",
       "      <td>103.0</td>\n",
       "      <td>unhealthy for sensitive</td>\n",
       "    </tr>\n",
       "    <tr>\n",
       "      <th>51</th>\n",
       "      <td>Apr</td>\n",
       "      <td>2021</td>\n",
       "      <td>111.0</td>\n",
       "      <td>10.8</td>\n",
       "      <td>24.6</td>\n",
       "      <td>51</td>\n",
       "      <td>29.0</td>\n",
       "      <td>8.7</td>\n",
       "      <td>0.40</td>\n",
       "      <td>0.20</td>\n",
       "      <td>107.0</td>\n",
       "      <td>unhealthy for sensitive</td>\n",
       "    </tr>\n",
       "    <tr>\n",
       "      <th>60</th>\n",
       "      <td>Jan</td>\n",
       "      <td>2022</td>\n",
       "      <td>87.0</td>\n",
       "      <td>13.2</td>\n",
       "      <td>29.2</td>\n",
       "      <td>62</td>\n",
       "      <td>16.0</td>\n",
       "      <td>14.6</td>\n",
       "      <td>0.54</td>\n",
       "      <td>0.05</td>\n",
       "      <td>146.0</td>\n",
       "      <td>unhealthy for sensitive</td>\n",
       "    </tr>\n",
       "    <tr>\n",
       "      <th>61</th>\n",
       "      <td>Feb</td>\n",
       "      <td>2022</td>\n",
       "      <td>91.0</td>\n",
       "      <td>14.0</td>\n",
       "      <td>31.0</td>\n",
       "      <td>54</td>\n",
       "      <td>26.0</td>\n",
       "      <td>18.6</td>\n",
       "      <td>0.56</td>\n",
       "      <td>0.04</td>\n",
       "      <td>119.0</td>\n",
       "      <td>unhealthy for sensitive</td>\n",
       "    </tr>\n",
       "    <tr>\n",
       "      <th>62</th>\n",
       "      <td>Mar</td>\n",
       "      <td>2022</td>\n",
       "      <td>86.0</td>\n",
       "      <td>14.8</td>\n",
       "      <td>32.4</td>\n",
       "      <td>62</td>\n",
       "      <td>35.0</td>\n",
       "      <td>12.6</td>\n",
       "      <td>0.72</td>\n",
       "      <td>0.05</td>\n",
       "      <td>137.0</td>\n",
       "      <td>unhealthy for sensitive</td>\n",
       "    </tr>\n",
       "    <tr>\n",
       "      <th>63</th>\n",
       "      <td>Apr</td>\n",
       "      <td>2022</td>\n",
       "      <td>90.0</td>\n",
       "      <td>15.8</td>\n",
       "      <td>33.8</td>\n",
       "      <td>47</td>\n",
       "      <td>31.0</td>\n",
       "      <td>22.6</td>\n",
       "      <td>0.64</td>\n",
       "      <td>0.04</td>\n",
       "      <td>118.0</td>\n",
       "      <td>unhealthy for sensitive</td>\n",
       "    </tr>\n",
       "    <tr>\n",
       "      <th>64</th>\n",
       "      <td>May</td>\n",
       "      <td>2022</td>\n",
       "      <td>87.0</td>\n",
       "      <td>13.3</td>\n",
       "      <td>36.5</td>\n",
       "      <td>42</td>\n",
       "      <td>29.0</td>\n",
       "      <td>5.3</td>\n",
       "      <td>0.78</td>\n",
       "      <td>0.04</td>\n",
       "      <td>123.0</td>\n",
       "      <td>unhealthy for sensitive</td>\n",
       "    </tr>\n",
       "    <tr>\n",
       "      <th>69</th>\n",
       "      <td>Oct</td>\n",
       "      <td>2022</td>\n",
       "      <td>93.0</td>\n",
       "      <td>12.0</td>\n",
       "      <td>30.7</td>\n",
       "      <td>46</td>\n",
       "      <td>28.0</td>\n",
       "      <td>9.7</td>\n",
       "      <td>0.67</td>\n",
       "      <td>0.07</td>\n",
       "      <td>101.0</td>\n",
       "      <td>unhealthy for sensitive</td>\n",
       "    </tr>\n",
       "  </tbody>\n",
       "</table>\n",
       "</div>"
      ],
      "text/plain": [
       "   month  year   PM10   SO2   NOx  PM25   NH3     O3    CO  benzene    AQI  \\\n",
       "0    Jan  2017  174.0  26.4  35.0    79  25.0  107.6  0.90     0.70  149.0   \n",
       "1    Feb  2017  143.0  35.1  40.3    75  31.0  103.0  0.90     0.90  129.0   \n",
       "2    Mar  2017  142.0  32.1  30.9    59  26.0   80.7  0.80     0.50  128.0   \n",
       "3    Apr  2017  117.0  50.9  36.3    75  36.0   79.5  0.90     0.70  111.0   \n",
       "6    Jul  2017  111.0  38.9  21.5    29  30.0   24.4  0.30     0.70  106.7   \n",
       "9    Oct  2017  146.0  37.1  32.6    63  23.0   52.8  0.60     0.50  130.0   \n",
       "13   Feb  2018  178.0  17.0  37.0    53  23.0   54.1  0.70     0.30  118.0   \n",
       "14   Mar  2018  144.0  17.2  29.7    63  22.0   48.3  0.70     0.30  129.0   \n",
       "15   Apr  2018  159.0  16.5  30.0    44  20.0   38.7  0.50     0.20  109.4   \n",
       "16   May  2018  130.0  16.6  32.3    39  16.9   39.5  0.50     0.20  106.9   \n",
       "21   Oct  2018  125.0  16.5  27.3    63  14.0   18.0  0.50     0.10  127.0   \n",
       "22   Nov  2018  132.0  14.2  30.4    54  11.0   20.1  0.50     0.10  110.5   \n",
       "23   Dec  2018  139.0  14.3  29.8    67  11.0   19.3  0.60     0.10  135.9   \n",
       "24   Jan  2019  106.0   4.8  26.0    77  21.0   17.6  0.60     0.10  103.5   \n",
       "25   Feb  2019  106.0   6.1  29.5    56  16.0   18.9  0.60     0.10  103.5   \n",
       "26   Mar  2019  104.0   4.8  26.0    50  19.0   15.1  0.60     0.10  100.6   \n",
       "28   May  2019  108.0   8.9  28.5    50  25.0   34.2  0.60     0.10  105.2   \n",
       "29   Jun  2019  104.0   8.9  29.0    31  26.0   24.9  0.40     0.10  101.5   \n",
       "35   Dec  2019  108.0   5.1  30.7    73  20.0   33.5  0.60     0.20  105.0   \n",
       "36   Jan  2020  134.0   9.0  33.3    58  23.0   31.5  0.50     0.20  123.0   \n",
       "37   Feb  2020  131.0   9.1  37.1    44  21.0   26.0  0.40     0.30  120.7   \n",
       "38   Mar  2020  129.0   9.0  37.2    35  22.0   23.5  0.40     0.20  120.0   \n",
       "40   May  2020  122.0  12.0  25.3    30  32.0   24.0  0.40     0.30  115.0   \n",
       "41   Jun  2020  133.0  12.0  31.4    22  37.0   12.0  0.30     0.40  123.0   \n",
       "42   Jul  2020  129.0  10.0  28.0    18  23.0    7.8  0.30     0.30  119.0   \n",
       "43   Aug  2020  113.0  13.4  27.1    17  28.0    6.9  0.30     0.30  108.0   \n",
       "46   Nov  2020  102.0  11.0  32.0    59  17.0   47.2  0.40     0.20  101.0   \n",
       "47   Dec  2020  106.0   9.8  29.4    87  17.0   36.6  0.50     0.20  104.0   \n",
       "48   Jan  2021  104.0   4.0  30.9    74  22.0   21.7  0.50     0.20  102.0   \n",
       "50   Mar  2021  105.0  12.0  31.6    67  24.0    2.4  0.50     0.30  103.0   \n",
       "51   Apr  2021  111.0  10.8  24.6    51  29.0    8.7  0.40     0.20  107.0   \n",
       "60   Jan  2022   87.0  13.2  29.2    62  16.0   14.6  0.54     0.05  146.0   \n",
       "61   Feb  2022   91.0  14.0  31.0    54  26.0   18.6  0.56     0.04  119.0   \n",
       "62   Mar  2022   86.0  14.8  32.4    62  35.0   12.6  0.72     0.05  137.0   \n",
       "63   Apr  2022   90.0  15.8  33.8    47  31.0   22.6  0.64     0.04  118.0   \n",
       "64   May  2022   87.0  13.3  36.5    42  29.0    5.3  0.78     0.04  123.0   \n",
       "69   Oct  2022   93.0  12.0  30.7    46  28.0    9.7  0.67     0.07  101.0   \n",
       "\n",
       "           level_of_concern  \n",
       "0   unhealthy for sensitive  \n",
       "1   unhealthy for sensitive  \n",
       "2   unhealthy for sensitive  \n",
       "3   unhealthy for sensitive  \n",
       "6   unhealthy for sensitive  \n",
       "9   unhealthy for sensitive  \n",
       "13  unhealthy for sensitive  \n",
       "14  unhealthy for sensitive  \n",
       "15  unhealthy for sensitive  \n",
       "16  unhealthy for sensitive  \n",
       "21  unhealthy for sensitive  \n",
       "22  unhealthy for sensitive  \n",
       "23  unhealthy for sensitive  \n",
       "24  unhealthy for sensitive  \n",
       "25  unhealthy for sensitive  \n",
       "26  unhealthy for sensitive  \n",
       "28  unhealthy for sensitive  \n",
       "29  unhealthy for sensitive  \n",
       "35  unhealthy for sensitive  \n",
       "36  unhealthy for sensitive  \n",
       "37  unhealthy for sensitive  \n",
       "38  unhealthy for sensitive  \n",
       "40  unhealthy for sensitive  \n",
       "41  unhealthy for sensitive  \n",
       "42  unhealthy for sensitive  \n",
       "43  unhealthy for sensitive  \n",
       "46  unhealthy for sensitive  \n",
       "47  unhealthy for sensitive  \n",
       "48  unhealthy for sensitive  \n",
       "50  unhealthy for sensitive  \n",
       "51  unhealthy for sensitive  \n",
       "60  unhealthy for sensitive  \n",
       "61  unhealthy for sensitive  \n",
       "62  unhealthy for sensitive  \n",
       "63  unhealthy for sensitive  \n",
       "64  unhealthy for sensitive  \n",
       "69  unhealthy for sensitive  "
      ]
     },
     "execution_count": 55,
     "metadata": {},
     "output_type": "execute_result"
    }
   ],
   "source": [
    "unhealthy_sensitive = aqi.loc[aqi.level_of_concern == 'unhealthy for sensitive']\n",
    "unhealthy_sensitive"
   ]
  },
  {
   "cell_type": "code",
   "execution_count": 56,
   "id": "f1c53a9e",
   "metadata": {},
   "outputs": [
    {
     "data": {
      "text/plain": [
       "array(['unhealthy for sensitive', 'moderate', 'unhealthy'], dtype=object)"
      ]
     },
     "execution_count": 56,
     "metadata": {},
     "output_type": "execute_result"
    }
   ],
   "source": [
    "aqi.level_of_concern.unique()"
   ]
  },
  {
   "cell_type": "code",
   "execution_count": 57,
   "id": "695cc14f",
   "metadata": {},
   "outputs": [
    {
     "data": {
      "text/html": [
       "<div>\n",
       "<style scoped>\n",
       "    .dataframe tbody tr th:only-of-type {\n",
       "        vertical-align: middle;\n",
       "    }\n",
       "\n",
       "    .dataframe tbody tr th {\n",
       "        vertical-align: top;\n",
       "    }\n",
       "\n",
       "    .dataframe thead th {\n",
       "        text-align: right;\n",
       "    }\n",
       "</style>\n",
       "<table border=\"1\" class=\"dataframe\">\n",
       "  <thead>\n",
       "    <tr style=\"text-align: right;\">\n",
       "      <th></th>\n",
       "      <th>month</th>\n",
       "      <th>year</th>\n",
       "      <th>PM10</th>\n",
       "      <th>SO2</th>\n",
       "      <th>NOx</th>\n",
       "      <th>PM25</th>\n",
       "      <th>NH3</th>\n",
       "      <th>O3</th>\n",
       "      <th>CO</th>\n",
       "      <th>benzene</th>\n",
       "      <th>AQI</th>\n",
       "      <th>level_of_concern</th>\n",
       "    </tr>\n",
       "  </thead>\n",
       "  <tbody>\n",
       "    <tr>\n",
       "      <th>7</th>\n",
       "      <td>Aug</td>\n",
       "      <td>2017</td>\n",
       "      <td>78.0</td>\n",
       "      <td>36.0</td>\n",
       "      <td>18.4</td>\n",
       "      <td>35</td>\n",
       "      <td>23.0</td>\n",
       "      <td>22.5</td>\n",
       "      <td>0.40</td>\n",
       "      <td>0.50</td>\n",
       "      <td>78.3</td>\n",
       "      <td>moderate</td>\n",
       "    </tr>\n",
       "    <tr>\n",
       "      <th>8</th>\n",
       "      <td>Sep</td>\n",
       "      <td>2017</td>\n",
       "      <td>86.0</td>\n",
       "      <td>30.0</td>\n",
       "      <td>22.3</td>\n",
       "      <td>39</td>\n",
       "      <td>20.0</td>\n",
       "      <td>35.2</td>\n",
       "      <td>0.40</td>\n",
       "      <td>0.40</td>\n",
       "      <td>86.0</td>\n",
       "      <td>moderate</td>\n",
       "    </tr>\n",
       "    <tr>\n",
       "      <th>17</th>\n",
       "      <td>Jun</td>\n",
       "      <td>2018</td>\n",
       "      <td>121.0</td>\n",
       "      <td>16.8</td>\n",
       "      <td>32.9</td>\n",
       "      <td>27</td>\n",
       "      <td>27.9</td>\n",
       "      <td>18.0</td>\n",
       "      <td>0.70</td>\n",
       "      <td>0.30</td>\n",
       "      <td>79.6</td>\n",
       "      <td>moderate</td>\n",
       "    </tr>\n",
       "    <tr>\n",
       "      <th>18</th>\n",
       "      <td>Jul</td>\n",
       "      <td>2018</td>\n",
       "      <td>123.0</td>\n",
       "      <td>14.5</td>\n",
       "      <td>31.3</td>\n",
       "      <td>22</td>\n",
       "      <td>33.0</td>\n",
       "      <td>7.9</td>\n",
       "      <td>0.20</td>\n",
       "      <td>0.40</td>\n",
       "      <td>65.6</td>\n",
       "      <td>moderate</td>\n",
       "    </tr>\n",
       "    <tr>\n",
       "      <th>19</th>\n",
       "      <td>Aug</td>\n",
       "      <td>2018</td>\n",
       "      <td>171.0</td>\n",
       "      <td>16.5</td>\n",
       "      <td>28.8</td>\n",
       "      <td>19</td>\n",
       "      <td>24.0</td>\n",
       "      <td>12.6</td>\n",
       "      <td>0.30</td>\n",
       "      <td>0.20</td>\n",
       "      <td>75.0</td>\n",
       "      <td>moderate</td>\n",
       "    </tr>\n",
       "    <tr>\n",
       "      <th>20</th>\n",
       "      <td>Sep</td>\n",
       "      <td>2018</td>\n",
       "      <td>156.0</td>\n",
       "      <td>16.0</td>\n",
       "      <td>27.8</td>\n",
       "      <td>43</td>\n",
       "      <td>22.0</td>\n",
       "      <td>9.9</td>\n",
       "      <td>0.40</td>\n",
       "      <td>0.20</td>\n",
       "      <td>93.0</td>\n",
       "      <td>moderate</td>\n",
       "    </tr>\n",
       "    <tr>\n",
       "      <th>27</th>\n",
       "      <td>Apr</td>\n",
       "      <td>2019</td>\n",
       "      <td>99.0</td>\n",
       "      <td>5.5</td>\n",
       "      <td>28.2</td>\n",
       "      <td>39</td>\n",
       "      <td>14.0</td>\n",
       "      <td>31.6</td>\n",
       "      <td>0.50</td>\n",
       "      <td>0.10</td>\n",
       "      <td>97.3</td>\n",
       "      <td>moderate</td>\n",
       "    </tr>\n",
       "    <tr>\n",
       "      <th>30</th>\n",
       "      <td>Jul</td>\n",
       "      <td>2019</td>\n",
       "      <td>95.0</td>\n",
       "      <td>19.6</td>\n",
       "      <td>29.3</td>\n",
       "      <td>24</td>\n",
       "      <td>25.0</td>\n",
       "      <td>18.0</td>\n",
       "      <td>0.30</td>\n",
       "      <td>0.10</td>\n",
       "      <td>94.0</td>\n",
       "      <td>moderate</td>\n",
       "    </tr>\n",
       "    <tr>\n",
       "      <th>31</th>\n",
       "      <td>Aug</td>\n",
       "      <td>2019</td>\n",
       "      <td>100.0</td>\n",
       "      <td>29.7</td>\n",
       "      <td>27.5</td>\n",
       "      <td>25</td>\n",
       "      <td>34.0</td>\n",
       "      <td>21.4</td>\n",
       "      <td>0.40</td>\n",
       "      <td>0.10</td>\n",
       "      <td>99.0</td>\n",
       "      <td>moderate</td>\n",
       "    </tr>\n",
       "    <tr>\n",
       "      <th>32</th>\n",
       "      <td>Sep</td>\n",
       "      <td>2019</td>\n",
       "      <td>93.0</td>\n",
       "      <td>22.3</td>\n",
       "      <td>26.2</td>\n",
       "      <td>24</td>\n",
       "      <td>27.0</td>\n",
       "      <td>21.6</td>\n",
       "      <td>0.50</td>\n",
       "      <td>0.10</td>\n",
       "      <td>92.4</td>\n",
       "      <td>moderate</td>\n",
       "    </tr>\n",
       "    <tr>\n",
       "      <th>33</th>\n",
       "      <td>Oct</td>\n",
       "      <td>2019</td>\n",
       "      <td>91.0</td>\n",
       "      <td>9.8</td>\n",
       "      <td>27.0</td>\n",
       "      <td>37</td>\n",
       "      <td>22.0</td>\n",
       "      <td>29.7</td>\n",
       "      <td>0.50</td>\n",
       "      <td>0.10</td>\n",
       "      <td>90.6</td>\n",
       "      <td>moderate</td>\n",
       "    </tr>\n",
       "    <tr>\n",
       "      <th>34</th>\n",
       "      <td>Nov</td>\n",
       "      <td>2019</td>\n",
       "      <td>100.0</td>\n",
       "      <td>12.0</td>\n",
       "      <td>29.7</td>\n",
       "      <td>79</td>\n",
       "      <td>22.0</td>\n",
       "      <td>41.7</td>\n",
       "      <td>0.60</td>\n",
       "      <td>0.20</td>\n",
       "      <td>97.1</td>\n",
       "      <td>moderate</td>\n",
       "    </tr>\n",
       "    <tr>\n",
       "      <th>44</th>\n",
       "      <td>Sep</td>\n",
       "      <td>2020</td>\n",
       "      <td>79.0</td>\n",
       "      <td>22.5</td>\n",
       "      <td>28.1</td>\n",
       "      <td>23</td>\n",
       "      <td>32.0</td>\n",
       "      <td>25.9</td>\n",
       "      <td>0.30</td>\n",
       "      <td>0.50</td>\n",
       "      <td>78.0</td>\n",
       "      <td>moderate</td>\n",
       "    </tr>\n",
       "    <tr>\n",
       "      <th>45</th>\n",
       "      <td>Oct</td>\n",
       "      <td>2020</td>\n",
       "      <td>84.0</td>\n",
       "      <td>24.3</td>\n",
       "      <td>28.5</td>\n",
       "      <td>57</td>\n",
       "      <td>33.0</td>\n",
       "      <td>45.2</td>\n",
       "      <td>0.40</td>\n",
       "      <td>0.40</td>\n",
       "      <td>84.0</td>\n",
       "      <td>moderate</td>\n",
       "    </tr>\n",
       "    <tr>\n",
       "      <th>49</th>\n",
       "      <td>Feb</td>\n",
       "      <td>2021</td>\n",
       "      <td>96.0</td>\n",
       "      <td>8.6</td>\n",
       "      <td>34.5</td>\n",
       "      <td>66</td>\n",
       "      <td>22.0</td>\n",
       "      <td>10.2</td>\n",
       "      <td>0.50</td>\n",
       "      <td>0.20</td>\n",
       "      <td>93.0</td>\n",
       "      <td>moderate</td>\n",
       "    </tr>\n",
       "    <tr>\n",
       "      <th>52</th>\n",
       "      <td>May</td>\n",
       "      <td>2021</td>\n",
       "      <td>82.0</td>\n",
       "      <td>8.4</td>\n",
       "      <td>28.9</td>\n",
       "      <td>26</td>\n",
       "      <td>21.0</td>\n",
       "      <td>6.1</td>\n",
       "      <td>0.30</td>\n",
       "      <td>0.10</td>\n",
       "      <td>81.0</td>\n",
       "      <td>moderate</td>\n",
       "    </tr>\n",
       "    <tr>\n",
       "      <th>53</th>\n",
       "      <td>Jun</td>\n",
       "      <td>2021</td>\n",
       "      <td>85.0</td>\n",
       "      <td>16.7</td>\n",
       "      <td>28.9</td>\n",
       "      <td>18</td>\n",
       "      <td>20.0</td>\n",
       "      <td>7.8</td>\n",
       "      <td>0.30</td>\n",
       "      <td>0.10</td>\n",
       "      <td>85.0</td>\n",
       "      <td>moderate</td>\n",
       "    </tr>\n",
       "    <tr>\n",
       "      <th>54</th>\n",
       "      <td>Jul</td>\n",
       "      <td>2021</td>\n",
       "      <td>83.0</td>\n",
       "      <td>18.8</td>\n",
       "      <td>27.3</td>\n",
       "      <td>12</td>\n",
       "      <td>20.0</td>\n",
       "      <td>8.7</td>\n",
       "      <td>0.30</td>\n",
       "      <td>0.10</td>\n",
       "      <td>83.0</td>\n",
       "      <td>moderate</td>\n",
       "    </tr>\n",
       "    <tr>\n",
       "      <th>55</th>\n",
       "      <td>Aug</td>\n",
       "      <td>2021</td>\n",
       "      <td>82.0</td>\n",
       "      <td>24.9</td>\n",
       "      <td>27.0</td>\n",
       "      <td>24</td>\n",
       "      <td>25.0</td>\n",
       "      <td>7.4</td>\n",
       "      <td>0.30</td>\n",
       "      <td>0.10</td>\n",
       "      <td>82.0</td>\n",
       "      <td>moderate</td>\n",
       "    </tr>\n",
       "    <tr>\n",
       "      <th>56</th>\n",
       "      <td>Sep</td>\n",
       "      <td>2021</td>\n",
       "      <td>85.0</td>\n",
       "      <td>24.8</td>\n",
       "      <td>28.5</td>\n",
       "      <td>19</td>\n",
       "      <td>20.0</td>\n",
       "      <td>4.7</td>\n",
       "      <td>0.40</td>\n",
       "      <td>0.10</td>\n",
       "      <td>85.0</td>\n",
       "      <td>moderate</td>\n",
       "    </tr>\n",
       "    <tr>\n",
       "      <th>57</th>\n",
       "      <td>Oct</td>\n",
       "      <td>2021</td>\n",
       "      <td>92.0</td>\n",
       "      <td>15.4</td>\n",
       "      <td>29.7</td>\n",
       "      <td>47</td>\n",
       "      <td>23.0</td>\n",
       "      <td>15.4</td>\n",
       "      <td>0.50</td>\n",
       "      <td>0.00</td>\n",
       "      <td>92.0</td>\n",
       "      <td>moderate</td>\n",
       "    </tr>\n",
       "    <tr>\n",
       "      <th>58</th>\n",
       "      <td>Nov</td>\n",
       "      <td>2021</td>\n",
       "      <td>97.0</td>\n",
       "      <td>9.4</td>\n",
       "      <td>29.9</td>\n",
       "      <td>49</td>\n",
       "      <td>21.0</td>\n",
       "      <td>15.5</td>\n",
       "      <td>0.50</td>\n",
       "      <td>0.03</td>\n",
       "      <td>96.0</td>\n",
       "      <td>moderate</td>\n",
       "    </tr>\n",
       "    <tr>\n",
       "      <th>59</th>\n",
       "      <td>Dec</td>\n",
       "      <td>2021</td>\n",
       "      <td>90.0</td>\n",
       "      <td>10.9</td>\n",
       "      <td>33.3</td>\n",
       "      <td>79</td>\n",
       "      <td>23.0</td>\n",
       "      <td>13.6</td>\n",
       "      <td>0.70</td>\n",
       "      <td>0.10</td>\n",
       "      <td>90.0</td>\n",
       "      <td>moderate</td>\n",
       "    </tr>\n",
       "    <tr>\n",
       "      <th>65</th>\n",
       "      <td>Jun</td>\n",
       "      <td>2022</td>\n",
       "      <td>91.0</td>\n",
       "      <td>14.5</td>\n",
       "      <td>33.8</td>\n",
       "      <td>29</td>\n",
       "      <td>31.0</td>\n",
       "      <td>11.1</td>\n",
       "      <td>1.13</td>\n",
       "      <td>0.03</td>\n",
       "      <td>92.0</td>\n",
       "      <td>moderate</td>\n",
       "    </tr>\n",
       "    <tr>\n",
       "      <th>66</th>\n",
       "      <td>Jul</td>\n",
       "      <td>2022</td>\n",
       "      <td>76.0</td>\n",
       "      <td>9.3</td>\n",
       "      <td>30.3</td>\n",
       "      <td>23</td>\n",
       "      <td>26.0</td>\n",
       "      <td>15.7</td>\n",
       "      <td>0.69</td>\n",
       "      <td>0.03</td>\n",
       "      <td>58.0</td>\n",
       "      <td>moderate</td>\n",
       "    </tr>\n",
       "    <tr>\n",
       "      <th>67</th>\n",
       "      <td>Aug</td>\n",
       "      <td>2022</td>\n",
       "      <td>89.0</td>\n",
       "      <td>12.0</td>\n",
       "      <td>35.0</td>\n",
       "      <td>22</td>\n",
       "      <td>26.0</td>\n",
       "      <td>15.2</td>\n",
       "      <td>0.64</td>\n",
       "      <td>0.09</td>\n",
       "      <td>67.0</td>\n",
       "      <td>moderate</td>\n",
       "    </tr>\n",
       "    <tr>\n",
       "      <th>68</th>\n",
       "      <td>Sep</td>\n",
       "      <td>2022</td>\n",
       "      <td>92.0</td>\n",
       "      <td>13.0</td>\n",
       "      <td>37.3</td>\n",
       "      <td>30</td>\n",
       "      <td>31.0</td>\n",
       "      <td>10.0</td>\n",
       "      <td>0.70</td>\n",
       "      <td>0.06</td>\n",
       "      <td>76.0</td>\n",
       "      <td>moderate</td>\n",
       "    </tr>\n",
       "  </tbody>\n",
       "</table>\n",
       "</div>"
      ],
      "text/plain": [
       "   month  year   PM10   SO2   NOx  PM25   NH3    O3    CO  benzene   AQI  \\\n",
       "7    Aug  2017   78.0  36.0  18.4    35  23.0  22.5  0.40     0.50  78.3   \n",
       "8    Sep  2017   86.0  30.0  22.3    39  20.0  35.2  0.40     0.40  86.0   \n",
       "17   Jun  2018  121.0  16.8  32.9    27  27.9  18.0  0.70     0.30  79.6   \n",
       "18   Jul  2018  123.0  14.5  31.3    22  33.0   7.9  0.20     0.40  65.6   \n",
       "19   Aug  2018  171.0  16.5  28.8    19  24.0  12.6  0.30     0.20  75.0   \n",
       "20   Sep  2018  156.0  16.0  27.8    43  22.0   9.9  0.40     0.20  93.0   \n",
       "27   Apr  2019   99.0   5.5  28.2    39  14.0  31.6  0.50     0.10  97.3   \n",
       "30   Jul  2019   95.0  19.6  29.3    24  25.0  18.0  0.30     0.10  94.0   \n",
       "31   Aug  2019  100.0  29.7  27.5    25  34.0  21.4  0.40     0.10  99.0   \n",
       "32   Sep  2019   93.0  22.3  26.2    24  27.0  21.6  0.50     0.10  92.4   \n",
       "33   Oct  2019   91.0   9.8  27.0    37  22.0  29.7  0.50     0.10  90.6   \n",
       "34   Nov  2019  100.0  12.0  29.7    79  22.0  41.7  0.60     0.20  97.1   \n",
       "44   Sep  2020   79.0  22.5  28.1    23  32.0  25.9  0.30     0.50  78.0   \n",
       "45   Oct  2020   84.0  24.3  28.5    57  33.0  45.2  0.40     0.40  84.0   \n",
       "49   Feb  2021   96.0   8.6  34.5    66  22.0  10.2  0.50     0.20  93.0   \n",
       "52   May  2021   82.0   8.4  28.9    26  21.0   6.1  0.30     0.10  81.0   \n",
       "53   Jun  2021   85.0  16.7  28.9    18  20.0   7.8  0.30     0.10  85.0   \n",
       "54   Jul  2021   83.0  18.8  27.3    12  20.0   8.7  0.30     0.10  83.0   \n",
       "55   Aug  2021   82.0  24.9  27.0    24  25.0   7.4  0.30     0.10  82.0   \n",
       "56   Sep  2021   85.0  24.8  28.5    19  20.0   4.7  0.40     0.10  85.0   \n",
       "57   Oct  2021   92.0  15.4  29.7    47  23.0  15.4  0.50     0.00  92.0   \n",
       "58   Nov  2021   97.0   9.4  29.9    49  21.0  15.5  0.50     0.03  96.0   \n",
       "59   Dec  2021   90.0  10.9  33.3    79  23.0  13.6  0.70     0.10  90.0   \n",
       "65   Jun  2022   91.0  14.5  33.8    29  31.0  11.1  1.13     0.03  92.0   \n",
       "66   Jul  2022   76.0   9.3  30.3    23  26.0  15.7  0.69     0.03  58.0   \n",
       "67   Aug  2022   89.0  12.0  35.0    22  26.0  15.2  0.64     0.09  67.0   \n",
       "68   Sep  2022   92.0  13.0  37.3    30  31.0  10.0  0.70     0.06  76.0   \n",
       "\n",
       "   level_of_concern  \n",
       "7          moderate  \n",
       "8          moderate  \n",
       "17         moderate  \n",
       "18         moderate  \n",
       "19         moderate  \n",
       "20         moderate  \n",
       "27         moderate  \n",
       "30         moderate  \n",
       "31         moderate  \n",
       "32         moderate  \n",
       "33         moderate  \n",
       "34         moderate  \n",
       "44         moderate  \n",
       "45         moderate  \n",
       "49         moderate  \n",
       "52         moderate  \n",
       "53         moderate  \n",
       "54         moderate  \n",
       "55         moderate  \n",
       "56         moderate  \n",
       "57         moderate  \n",
       "58         moderate  \n",
       "59         moderate  \n",
       "65         moderate  \n",
       "66         moderate  \n",
       "67         moderate  \n",
       "68         moderate  "
      ]
     },
     "execution_count": 57,
     "metadata": {},
     "output_type": "execute_result"
    }
   ],
   "source": [
    "moderate = aqi.loc[aqi.level_of_concern == 'moderate']\n",
    "moderate"
   ]
  },
  {
   "cell_type": "markdown",
   "id": "86470244",
   "metadata": {},
   "source": [
    "How many months fall into each category?"
   ]
  },
  {
   "cell_type": "code",
   "execution_count": 58,
   "id": "984eb813",
   "metadata": {
    "scrolled": true
   },
   "outputs": [
    {
     "data": {
      "text/plain": [
       "27"
      ]
     },
     "execution_count": 58,
     "metadata": {},
     "output_type": "execute_result"
    }
   ],
   "source": [
    "# moderate:\n",
    "moderate.month.count()"
   ]
  },
  {
   "cell_type": "code",
   "execution_count": 59,
   "id": "7aca4031",
   "metadata": {},
   "outputs": [
    {
     "data": {
      "text/plain": [
       "37"
      ]
     },
     "execution_count": 59,
     "metadata": {},
     "output_type": "execute_result"
    }
   ],
   "source": [
    "# unhealthy for sensitive\n",
    "unhealthy_sensitive.month.count()"
   ]
  },
  {
   "cell_type": "code",
   "execution_count": 60,
   "id": "99f47248",
   "metadata": {},
   "outputs": [
    {
     "data": {
      "text/plain": [
       "3"
      ]
     },
     "execution_count": 60,
     "metadata": {},
     "output_type": "execute_result"
    }
   ],
   "source": [
    "# unhealthy\n",
    "unhealthy.month.count()"
   ]
  },
  {
   "cell_type": "markdown",
   "id": "e9cfc898",
   "metadata": {},
   "source": [
    "Looking into each table: how many months of each year?"
   ]
  },
  {
   "cell_type": "code",
   "execution_count": null,
   "id": "479c6de6",
   "metadata": {},
   "outputs": [],
   "source": []
  }
 ],
 "metadata": {
  "kernelspec": {
   "display_name": "Python 3 (ipykernel)",
   "language": "python",
   "name": "python3"
  },
  "language_info": {
   "codemirror_mode": {
    "name": "ipython",
    "version": 3
   },
   "file_extension": ".py",
   "mimetype": "text/x-python",
   "name": "python",
   "nbconvert_exporter": "python",
   "pygments_lexer": "ipython3",
   "version": "3.9.12"
  }
 },
 "nbformat": 4,
 "nbformat_minor": 5
}
